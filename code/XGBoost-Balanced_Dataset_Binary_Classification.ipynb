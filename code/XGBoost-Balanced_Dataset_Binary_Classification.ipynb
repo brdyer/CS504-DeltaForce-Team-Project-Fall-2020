{
 "cells": [
  {
   "cell_type": "code",
   "execution_count": 1,
   "metadata": {},
   "outputs": [
    {
     "name": "stdout",
     "output_type": "stream",
     "text": [
      "Current Path: D:\\MS in DAEN\\GMU 2020\\CS 504\\Group Delta\n",
      "Reading file:  combine_data_with_labels_new.csv\n"
     ]
    }
   ],
   "source": [
    "import pandas as pd\n",
    "import numpy as np\n",
    "import os\n",
    "import xgboost as xgb\n",
    "from xgboost import XGBClassifier, plot_importance\n",
    "from sklearn.model_selection import train_test_split\n",
    "from sklearn import preprocessing\n",
    "from sklearn.metrics import accuracy_score, classification_report, confusion_matrix\n",
    "import matplotlib.pyplot as plt\n",
    "import seaborn as sb\n",
    "from bayes_opt import BayesianOptimization\n",
    "from hyperopt import STATUS_OK, Trials, fmin, hp, tpe\n",
    "from imblearn.over_sampling import SMOTE\n",
    "\n",
    "os.chdir(\"D:/MS in DAEN/GMU 2020/CS 504/Group Delta\")\n",
    "print(\"Current Path: \" + os.getcwd())\n",
    "\n",
    "print(\"Reading file: \", \"combine_data_with_labels_new.csv\")\n",
    "df = pd.read_csv('combine_data_with_labels_new.csv')\n",
    "\n",
    "#Select independent variables \n",
    "data = df[['HourlyAltimeterSetting', 'HourlyDewPointTemperature', 'HourlyDryBulbTemperature',\n",
    "           'HourlyPrecipitation', 'HourlyRelativeHumidity', 'HourlySeaLevelPressure', 'HourlyStationPressure', \n",
    "           'HourlyVisibility', 'HourlyWetBulbTemperature', 'HourlyWindSpeed']]"
   ]
  },
  {
   "cell_type": "code",
   "execution_count": 2,
   "metadata": {},
   "outputs": [
    {
     "name": "stdout",
     "output_type": "stream",
     "text": [
      "1680751 39656\n"
     ]
    }
   ],
   "source": [
    "#Calculate the total records of each variable in Label1 -> Show the imbalance in the dataset\n",
    "ontime_count, delay_count= df['Label1'].value_counts()\n",
    "print(ontime_count, delay_count)"
   ]
  },
  {
   "cell_type": "code",
   "execution_count": 4,
   "metadata": {},
   "outputs": [
    {
     "name": "stdout",
     "output_type": "stream",
     "text": [
      "\n",
      " Inital target values mapped with encoded values: \n",
      " {'delay': 0, 'ontime': 1}\n"
     ]
    },
    {
     "name": "stderr",
     "output_type": "stream",
     "text": [
      "c:\\users\\hoai-anh nguyen\\appdata\\local\\programs\\python\\python38\\lib\\site-packages\\imblearn\\utils\\_validation.py:635: FutureWarning: Pass sampling_strategy=not majority as keyword args. From version 0.9 passing these as positional arguments will result in an error\n",
      "  warnings.warn(\"Pass {} as keyword args. From version 0.9 \"\n"
     ]
    }
   ],
   "source": [
    "#Choose Label3 as the target for prediction and encode the target values to numeric types. \n",
    "#Create an additional dictionary storing the inital target values mapped with encoded values.\n",
    "le = preprocessing.LabelEncoder()\n",
    "le.fit(df['Label1'])\n",
    "le_name_mapping = dict(zip(le.classes_, le.transform(le.classes_)))\n",
    "print('\\n Inital target values mapped with encoded values: \\n',le_name_mapping)\n",
    "\n",
    "df['Label1'] = le.fit_transform(df['Label1'])\n",
    "\n",
    "#split data into training and test sets\n",
    "x_train, x_test, y_train, y_test = train_test_split(data, df.Label1, test_size=0.2, random_state=0)\n",
    "\n",
    "#Handling the imbalance in the dataset by duplicating the minorities in the training dataset\n",
    "smote = SMOTE('not majority')\n",
    "x_sm, y_sm = smote.fit_sample(x_train, y_train)\n",
    "\n",
    "#convert training and test sets into DMatrices \n",
    "train = xgb.DMatrix(x_sm, label=y_sm)\n",
    "test = xgb.DMatrix(x_test, label=y_test)"
   ]
  },
  {
   "cell_type": "code",
   "execution_count": 5,
   "metadata": {},
   "outputs": [
    {
     "name": "stdout",
     "output_type": "stream",
     "text": [
      "\n",
      "Initial Hyperparameters for model training: \n",
      " {'max_depth': 14, 'min_child_weight': 1, 'subsample': 0.969, 'colsample_bytree': 0.833, 'eval_metric': 'logloss', 'objective': 'binary:logistic'} \n",
      "The number of rounds for boosting:  180\n",
      "Start training model\n",
      "[0]\tTest-logloss:0.50209\n",
      "Will train until Test-logloss hasn't improved in 10 rounds.\n",
      "[1]\tTest-logloss:0.39123\n",
      "[2]\tTest-logloss:0.32059\n",
      "[3]\tTest-logloss:0.27081\n",
      "[4]\tTest-logloss:0.23106\n",
      "[5]\tTest-logloss:0.20337\n",
      "[6]\tTest-logloss:0.18243\n",
      "[7]\tTest-logloss:0.16746\n",
      "[8]\tTest-logloss:0.15527\n",
      "[9]\tTest-logloss:0.14385\n",
      "[10]\tTest-logloss:0.13598\n",
      "[11]\tTest-logloss:0.12961\n",
      "[12]\tTest-logloss:0.12324\n",
      "[13]\tTest-logloss:0.11841\n",
      "[14]\tTest-logloss:0.11460\n",
      "[15]\tTest-logloss:0.11024\n",
      "[16]\tTest-logloss:0.10823\n",
      "[17]\tTest-logloss:0.10550\n",
      "[18]\tTest-logloss:0.10153\n",
      "[19]\tTest-logloss:0.09969\n",
      "[20]\tTest-logloss:0.09861\n",
      "[21]\tTest-logloss:0.09602\n",
      "[22]\tTest-logloss:0.09260\n",
      "[23]\tTest-logloss:0.09044\n",
      "[24]\tTest-logloss:0.08995\n",
      "[25]\tTest-logloss:0.08702\n",
      "[26]\tTest-logloss:0.08592\n",
      "[27]\tTest-logloss:0.08544\n",
      "[28]\tTest-logloss:0.08404\n",
      "[29]\tTest-logloss:0.08307\n",
      "[30]\tTest-logloss:0.08279\n",
      "[31]\tTest-logloss:0.08154\n",
      "[32]\tTest-logloss:0.08007\n",
      "[33]\tTest-logloss:0.07909\n",
      "[34]\tTest-logloss:0.07848\n",
      "[35]\tTest-logloss:0.07773\n",
      "[36]\tTest-logloss:0.07740\n",
      "[37]\tTest-logloss:0.07619\n",
      "[38]\tTest-logloss:0.07530\n",
      "[39]\tTest-logloss:0.07408\n",
      "[40]\tTest-logloss:0.07341\n",
      "[41]\tTest-logloss:0.07248\n",
      "[42]\tTest-logloss:0.07208\n",
      "[43]\tTest-logloss:0.07080\n",
      "[44]\tTest-logloss:0.07066\n",
      "[45]\tTest-logloss:0.07035\n",
      "[46]\tTest-logloss:0.06967\n",
      "[47]\tTest-logloss:0.06873\n",
      "[48]\tTest-logloss:0.06800\n",
      "[49]\tTest-logloss:0.06794\n",
      "[50]\tTest-logloss:0.06750\n",
      "[51]\tTest-logloss:0.06725\n",
      "[52]\tTest-logloss:0.06647\n",
      "[53]\tTest-logloss:0.06627\n",
      "[54]\tTest-logloss:0.06564\n",
      "[55]\tTest-logloss:0.06530\n",
      "[56]\tTest-logloss:0.06510\n",
      "[57]\tTest-logloss:0.06499\n",
      "[58]\tTest-logloss:0.06494\n",
      "[59]\tTest-logloss:0.06483\n",
      "[60]\tTest-logloss:0.06441\n",
      "[61]\tTest-logloss:0.06403\n",
      "[62]\tTest-logloss:0.06388\n",
      "[63]\tTest-logloss:0.06360\n",
      "[64]\tTest-logloss:0.06355\n",
      "[65]\tTest-logloss:0.06342\n",
      "[66]\tTest-logloss:0.06321\n",
      "[67]\tTest-logloss:0.06299\n",
      "[68]\tTest-logloss:0.06296\n",
      "[69]\tTest-logloss:0.06284\n",
      "[70]\tTest-logloss:0.06243\n",
      "[71]\tTest-logloss:0.06207\n",
      "[72]\tTest-logloss:0.06170\n",
      "[73]\tTest-logloss:0.06153\n",
      "[74]\tTest-logloss:0.06117\n",
      "[75]\tTest-logloss:0.06099\n",
      "[76]\tTest-logloss:0.06080\n",
      "[77]\tTest-logloss:0.06062\n",
      "[78]\tTest-logloss:0.06049\n",
      "[79]\tTest-logloss:0.06038\n",
      "[80]\tTest-logloss:0.06035\n",
      "[81]\tTest-logloss:0.06026\n",
      "[82]\tTest-logloss:0.06019\n",
      "[83]\tTest-logloss:0.06009\n",
      "[84]\tTest-logloss:0.06005\n",
      "[85]\tTest-logloss:0.05992\n",
      "[86]\tTest-logloss:0.05988\n",
      "[87]\tTest-logloss:0.05983\n",
      "[88]\tTest-logloss:0.05955\n",
      "[89]\tTest-logloss:0.05937\n",
      "[90]\tTest-logloss:0.05935\n",
      "[91]\tTest-logloss:0.05931\n",
      "[92]\tTest-logloss:0.05927\n",
      "[93]\tTest-logloss:0.05912\n",
      "[94]\tTest-logloss:0.05899\n",
      "[95]\tTest-logloss:0.05895\n",
      "[96]\tTest-logloss:0.05889\n",
      "[97]\tTest-logloss:0.05883\n",
      "[98]\tTest-logloss:0.05883\n",
      "[99]\tTest-logloss:0.05881\n",
      "[100]\tTest-logloss:0.05876\n",
      "[101]\tTest-logloss:0.05870\n",
      "[102]\tTest-logloss:0.05870\n",
      "[103]\tTest-logloss:0.05868\n",
      "[104]\tTest-logloss:0.05869\n",
      "[105]\tTest-logloss:0.05871\n",
      "[106]\tTest-logloss:0.05868\n",
      "[107]\tTest-logloss:0.05866\n",
      "[108]\tTest-logloss:0.05862\n",
      "[109]\tTest-logloss:0.05857\n",
      "[110]\tTest-logloss:0.05857\n",
      "[111]\tTest-logloss:0.05853\n",
      "[112]\tTest-logloss:0.05854\n",
      "[113]\tTest-logloss:0.05851\n",
      "[114]\tTest-logloss:0.05850\n",
      "[115]\tTest-logloss:0.05842\n",
      "[116]\tTest-logloss:0.05840\n",
      "[117]\tTest-logloss:0.05835\n",
      "[118]\tTest-logloss:0.05831\n",
      "[119]\tTest-logloss:0.05829\n",
      "[120]\tTest-logloss:0.05829\n",
      "[121]\tTest-logloss:0.05827\n",
      "[122]\tTest-logloss:0.05827\n",
      "[123]\tTest-logloss:0.05827\n",
      "[124]\tTest-logloss:0.05828\n",
      "[125]\tTest-logloss:0.05829\n",
      "[126]\tTest-logloss:0.05826\n",
      "[127]\tTest-logloss:0.05825\n",
      "[128]\tTest-logloss:0.05826\n",
      "[129]\tTest-logloss:0.05824\n",
      "[130]\tTest-logloss:0.05824\n",
      "[131]\tTest-logloss:0.05823\n",
      "[132]\tTest-logloss:0.05821\n",
      "[133]\tTest-logloss:0.05821\n",
      "[134]\tTest-logloss:0.05819\n",
      "[135]\tTest-logloss:0.05818\n",
      "[136]\tTest-logloss:0.05819\n",
      "[137]\tTest-logloss:0.05821\n",
      "[138]\tTest-logloss:0.05819\n",
      "[139]\tTest-logloss:0.05821\n",
      "[140]\tTest-logloss:0.05821\n",
      "[141]\tTest-logloss:0.05820\n",
      "[142]\tTest-logloss:0.05823\n",
      "[143]\tTest-logloss:0.05822\n",
      "[144]\tTest-logloss:0.05821\n",
      "[145]\tTest-logloss:0.05824\n",
      "Stopping. Best iteration:\n",
      "[135]\tTest-logloss:0.05818\n",
      "\n",
      "Finish training model\n"
     ]
    }
   ],
   "source": [
    "#Set the initial parameters to begin with\n",
    "param = {\n",
    "    'max_depth':14,\n",
    "    'min_child_weight':1,\n",
    "    'subsample': 0.969,\n",
    "    'colsample_bytree': 0.833,\n",
    "    'eval_metric': 'logloss',\n",
    "    'objective': 'binary:logistic'}\n",
    "num_round = 180\n",
    "\n",
    "print('\\nInitial Hyperparameters for model training: \\n', param, '\\nThe number of rounds for boosting: ', num_round)\n",
    "\n",
    "print('Start training model')\n",
    "model = xgb.train(param, train, num_round, evals=[(test, \"Test\")], early_stopping_rounds=10)\n",
    "print('Finish training model')"
   ]
  },
  {
   "cell_type": "code",
   "execution_count": 7,
   "metadata": {},
   "outputs": [
    {
     "name": "stdout",
     "output_type": "stream",
     "text": [
      "Best mlogloss: 0.05818 with 136 rounds\n"
     ]
    }
   ],
   "source": [
    "print(\"Best mlogloss: {:.5f} with {} rounds\".format(model.best_score, model.best_iteration+1))"
   ]
  },
  {
   "cell_type": "code",
   "execution_count": 8,
   "metadata": {},
   "outputs": [
    {
     "name": "stdout",
     "output_type": "stream",
     "text": [
      "Start prediction\n",
      "Finish prediction\n",
      "Accuracy Score: 0.9837480600554519\n"
     ]
    }
   ],
   "source": [
    "print('Start prediction')\n",
    "predictions = model.predict(test)\n",
    "print('Finish prediction')\n",
    "print('Accuracy Score:', accuracy_score(y_test,predictions.round()))"
   ]
  },
  {
   "cell_type": "code",
   "execution_count": 9,
   "metadata": {},
   "outputs": [
    {
     "name": "stdout",
     "output_type": "stream",
     "text": [
      "\n",
      "*Classification Report:\n",
      "               precision    recall  f1-score   support\n",
      "\n",
      "       delay       0.62      0.75      0.68      7887\n",
      "      ontime       0.99      0.99      0.99    336195\n",
      "\n",
      "    accuracy                           0.98    344082\n",
      "   macro avg       0.81      0.87      0.84    344082\n",
      "weighted avg       0.99      0.98      0.98    344082\n",
      "\n"
     ]
    },
    {
     "data": {
      "image/png": "[encoded data removed]",
      "text/plain": [
       "<Figure size 576x576 with 2 Axes>"
      ]
     },
     "metadata": {
      "needs_background": "light"
     },
     "output_type": "display_data"
    }
   ],
   "source": [
    "class_report = classification_report(y_test, predictions.round(), \n",
    "                                     target_names=['delay', 'ontime'])\n",
    "print ('\\n*Classification Report:\\n', class_report)\n",
    "# Plot heatmap for Classification Report\n",
    "report = classification_report(y_test, predictions.round(), target_names=['delay', 'ontime'], \n",
    "                                     output_dict = True)\n",
    "rp = pd.DataFrame(report).transpose()\n",
    "\n",
    "rp = rp.iloc[:2,:3]\n",
    "\n",
    "cmap = sb.diverging_palette(250, 20, as_cmap=True)\n",
    "plt.subplots(figsize=(8, 8)) \n",
    "heat_map = sb.heatmap(rp, cmap=cmap, annot=True, vmax=1, vmin=0, center=0.5, \n",
    "                      square=False, linewidths=.3, cbar_kws={\"shrink\": .8})\n",
    "heat_map.figure.tight_layout()\n",
    "heat_map.figure.subplots_adjust(bottom = 0.25)\n",
    "plt.title('XGBoost Model \\nClassification Report \\nBalanced Dataset')\n",
    "plt.show()"
   ]
  },
  {
   "cell_type": "code",
   "execution_count": 10,
   "metadata": {},
   "outputs": [
    {
     "name": "stdout",
     "output_type": "stream",
     "text": [
      "\n",
      "Confusion Matrix: \n",
      " [[  5914   1973]\n",
      " [  3619 332576]]\n"
     ]
    }
   ],
   "source": [
    "cm = confusion_matrix(y_test, predictions.round())\n",
    "print('\\nConfusion Matrix: \\n', cm)"
   ]
  },
  {
   "cell_type": "code",
   "execution_count": 11,
   "metadata": {},
   "outputs": [
    {
     "name": "stdout",
     "output_type": "stream",
     "text": [
      "           delay    ontime\n",
      "delay   0.749842  0.250158\n",
      "ontime  0.010765  0.989235\n"
     ]
    },
    {
     "data": {
      "image/png": "[encoded data removed]",
      "text/plain": [
       "<Figure size 576x576 with 2 Axes>"
      ]
     },
     "metadata": {
      "needs_background": "light"
     },
     "output_type": "display_data"
    }
   ],
   "source": [
    "cm_neu = cm.astype('float') / cm.sum(axis=1)[:, np.newaxis]\n",
    "cmtx = pd.DataFrame(cm_neu, \n",
    "                    index=['delay', 'ontime'], \n",
    "                    columns=['delay', 'ontime'])\n",
    "print(cmtx)\n",
    "\n",
    "# Plot heatmap for Confusion Matrix\n",
    "plt.subplots(figsize=(8, 8)) \n",
    "heat_map = sb.heatmap(cmtx, cmap=cmap, annot=True, vmax=1, vmin=0, center=0.5, \n",
    "                      square=False, linewidths=.3, cbar_kws={\"shrink\": .8})\n",
    "heat_map.figure.tight_layout()\n",
    "heat_map.figure.subplots_adjust(bottom = 0.25)\n",
    "plt.ylabel('True Label')\n",
    "plt.xlabel('Predicted Label')\n",
    "plt.title('XGBoost Model \\nNormalized Confusion Matrix \\nBalanced Dataset')\n",
    "plt.show()"
   ]
  },
  {
   "cell_type": "code",
   "execution_count": 12,
   "metadata": {},
   "outputs": [
    {
     "data": {
      "image/png": "[encoded data removed]",
      "text/plain": [
       "<Figure size 432x288 with 1 Axes>"
      ]
     },
     "metadata": {
      "needs_background": "light"
     },
     "output_type": "display_data"
    }
   ],
   "source": [
    "plot_importance(model)\n",
    "plt.title('Balanced Dataset \\nFeature Importance')\n",
    "plt.show()"
   ]
  },
  {
   "cell_type": "code",
   "execution_count": null,
   "metadata": {},
   "outputs": [],
   "source": []
  }
 ],
 "metadata": {
  "kernelspec": {
   "display_name": "Python 3",
   "language": "python",
   "name": "python3"
  },
  "language_info": {
   "codemirror_mode": {
    "name": "ipython",
    "version": 3
   },
   "file_extension": ".py",
   "mimetype": "text/x-python",
   "name": "python",
   "nbconvert_exporter": "python",
   "pygments_lexer": "ipython3",
   "version": "3.8.6rc1"
  }
 },
 "nbformat": 4,
 "nbformat_minor": 4
}
