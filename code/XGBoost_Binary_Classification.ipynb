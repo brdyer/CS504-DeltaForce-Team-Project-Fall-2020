{
 "cells": [
  {
   "cell_type": "markdown",
   "metadata": {},
   "source": [
    "# Import Libraries"
   ]
  },
  {
   "cell_type": "code",
   "execution_count": 1,
   "metadata": {},
   "outputs": [],
   "source": [
    "import pandas as pd\n",
    "import numpy as np\n",
    "import os\n",
    "import xgboost as xgb\n",
    "from xgboost import XGBClassifier, plot_importance\n",
    "from sklearn.model_selection import train_test_split\n",
    "from sklearn import preprocessing\n",
    "from sklearn.metrics import accuracy_score, classification_report, confusion_matrix\n",
    "import matplotlib.pyplot as plt\n",
    "import seaborn as sb\n",
    "from bayes_opt import BayesianOptimization\n",
    "from hyperopt import STATUS_OK, Trials, fmin, hp, tpe\n",
    "from imblearn.over_sampling import SMOTE"
   ]
  },
  {
   "cell_type": "markdown",
   "metadata": {},
   "source": [
    "# Pre-Process Data"
   ]
  },
  {
   "cell_type": "markdown",
   "metadata": {},
   "source": [
    "Import the dataset"
   ]
  },
  {
   "cell_type": "code",
   "execution_count": 2,
   "metadata": {},
   "outputs": [
    {
     "name": "stdout",
     "output_type": "stream",
     "text": [
      "Reading file:  combine_data_with_labels_new.csv\n"
     ]
    }
   ],
   "source": [
    "print(\"Reading file: \", \"combine_data_with_labels_new.csv\")\n",
    "df = pd.read_csv('combine_data_with_labels_new.csv')"
   ]
  },
  {
   "cell_type": "markdown",
   "metadata": {},
   "source": [
    "Select revelant weather conditions affecting the flight performance."
   ]
  },
  {
   "cell_type": "code",
   "execution_count": 3,
   "metadata": {},
   "outputs": [],
   "source": [
    "data = df[['HourlyAltimeterSetting', 'HourlyDewPointTemperature', 'HourlyDryBulbTemperature',\n",
    "           'HourlyPrecipitation', 'HourlyRelativeHumidity', 'HourlySeaLevelPressure', 'HourlyStationPressure', \n",
    "           'HourlyVisibility', 'HourlyWetBulbTemperature', 'HourlyWindSpeed']]"
   ]
  },
  {
   "cell_type": "markdown",
   "metadata": {},
   "source": [
    "Choose Label3 as the target for prediction and encode the target values to numeric types.\n",
    "Create an additional dictionary storing the inital target values mapped with encoded values."
   ]
  },
  {
   "cell_type": "code",
   "execution_count": 4,
   "metadata": {},
   "outputs": [
    {
     "name": "stdout",
     "output_type": "stream",
     "text": [
      "\n",
      " Inital target values mapped with encoded values: \n",
      " {'delay': 0, 'ontime': 1}\n"
     ]
    }
   ],
   "source": [
    "le = preprocessing.LabelEncoder()\n",
    "le.fit(df['Label1'])\n",
    "le_name_mapping = dict(zip(le.classes_, le.transform(le.classes_)))\n",
    "print('\\n Inital target values mapped with encoded values: \\n',le_name_mapping)"
   ]
  },
  {
   "cell_type": "markdown",
   "metadata": {},
   "source": [
    "# XGBoost for Multi-Classification"
   ]
  },
  {
   "cell_type": "markdown",
   "metadata": {},
   "source": [
    "## Loading data into DMatrices\n",
    "In order to use the native API for XGBoost, we will first need to build DMatrices. XGBoost likes DMatrices because it's a structure optimized for memory efficiency and training speed"
   ]
  },
  {
   "cell_type": "code",
   "execution_count": 5,
   "metadata": {},
   "outputs": [],
   "source": [
    "df['Label1'] = le.fit_transform(df['Label1'])\n",
    "\n",
    "#split data into training and test sets\n",
    "x_train, x_test, y_train, y_test = train_test_split(data, df.Label1, test_size=0.2, random_state=0)\n",
    "\n",
    "#convert training and test sets into DMatrices \n",
    "train = xgb.DMatrix(x_train, label=y_train)\n",
    "test = xgb.DMatrix(x_test, label=y_test)\n"
   ]
  },
  {
   "cell_type": "markdown",
   "metadata": {},
   "source": [
    "## Apply Bayesian Optimization for tuning hyperparameters using HYPEROPT library"
   ]
  },
  {
   "cell_type": "code",
   "execution_count": 6,
   "metadata": {},
   "outputs": [],
   "source": [
    "import hyperopt\n",
    "from hyperopt import fmin, tpe, hp, STATUS_OK, Trials\n",
    "space={'max_depth': hp.quniform(\"max_depth\", 8, 15, 1),\n",
    "       'subsample': hp.uniform('subsample', 0.5, 1),\n",
    "       'colsample_bytree' : hp.uniform('colsample_bytree', 0.5,1),\n",
    "       'min_child_weight' : hp.quniform('min_child_weight', 0, 5, 1),\n",
    "       'n_estimators': 180}"
   ]
  },
  {
   "cell_type": "code",
   "execution_count": 7,
   "metadata": {},
   "outputs": [],
   "source": [
    "# Classifier:\n",
    "def hyperparameter_tuning(space):\n",
    "    model = xgb.XGBClassifier(n_estimators =space['n_estimators'], \n",
    "                              max_depth = int(space['max_depth']), \n",
    "                              min_child_weight=space['min_child_weight'],\n",
    "                              subsample=space['subsample'],\n",
    "                              colsample_bytree=space['colsample_bytree'])\n",
    "    evaluation = [( x_train, y_train), ( x_test, y_test)]\n",
    "    \n",
    "    model.fit(x_train, y_train,\n",
    "            eval_set=evaluation, eval_metric=\"logloss\",\n",
    "            early_stopping_rounds=10,verbose=False)\n",
    "\n",
    "    pred = model.predict(x_test)\n",
    "    accuracy = accuracy_score(y_test, pred.round())\n",
    "    print (\"SCORE:\", accuracy)\n",
    "    #change the metric if you like\n",
    "    return {'loss': -accuracy, 'status': STATUS_OK, 'model': model}"
   ]
  },
  {
   "cell_type": "code",
   "execution_count": 8,
   "metadata": {},
   "outputs": [
    {
     "name": "stdout",
     "output_type": "stream",
     "text": [
      "SCORE:                                                 \n",
      "0.9873983527182474                                     \n",
      "SCORE:                                                                               \n",
      "0.987662824559262                                                                    \n",
      "SCORE:                                                                               \n",
      "0.9875349480647055                                                                  \n",
      "SCORE:                                                                              \n",
      "0.9877442005103435                                                                  \n",
      "SCORE:                                                                              \n",
      "0.9877965136217529                                                                  \n",
      "SCORE:                                                                              \n",
      "0.987017629518545                                                                   \n",
      "SCORE:                                                                              \n",
      "0.9868490650484477                                                                  \n",
      "SCORE:                                                                              \n",
      "0.9875698234723118                                                                  \n",
      "SCORE:                                                                              \n",
      "0.9879650780918502                                                                  \n",
      "SCORE:                                                                              \n",
      "0.9878837021407688                                                                  \n",
      "SCORE:                                                                               \n",
      "0.9877471067943107                                                                   \n",
      "SCORE:                                                                               \n",
      "0.9875959800280166                                                                   \n",
      "SCORE:                                                                               \n",
      "0.9874419469777553                                                                   \n",
      "SCORE:                                                                               \n",
      "0.9860556495254038                                                                   \n",
      "SCORE:                                                                               \n",
      "0.9880028597834237                                                                   \n",
      "SCORE:                                                                               \n",
      "0.9877383879424091                                                                   \n",
      "SCORE:                                                                               \n",
      "0.9873315081870019                                                                   \n",
      "SCORE:                                                                               \n",
      "0.9878895147087031                                                                   \n",
      "SCORE:                                                                               \n",
      "0.9879447341040798                                                                   \n",
      "SCORE:                                                                               \n",
      "0.9873489458908051                                                                   \n",
      "SCORE:                                                                               \n",
      "0.9880551728948332                                                                   \n",
      "SCORE:                                                                               \n",
      "0.9879127649804407                                                                   \n",
      "SCORE:                                                                               \n",
      "0.9878662644369656                                                                   \n",
      "SCORE:                                                                               \n",
      "0.9880697043146692                                                                   \n",
      "SCORE:                                                                               \n",
      "0.9879796095116862                                                                 \n",
      "SCORE:                                                                             \n",
      "0.9880348289070628                                                                 \n",
      "SCORE:                                                                             \n",
      "0.9877587319301794                                                                 \n",
      "SCORE:                                                                             \n",
      "0.9880173912032597                                                                 \n",
      "SCORE:                                                                             \n",
      "0.9878081387576217                                                                 \n",
      "SCORE:                                                                               \n",
      "0.9879534529559815                                                                   \n",
      "SCORE:                                                                               \n",
      "0.987662824559262                                                                  \n",
      "SCORE:                                                                               \n",
      "0.9878837021407688                                                                   \n",
      "SCORE:                                                                               \n",
      "0.9880173912032597                                                                 \n",
      "SCORE:                                                                             \n",
      "0.9877907010538186                                                                 \n",
      "SCORE:                                                                             \n",
      "0.9877529193622451                                                                 \n",
      "SCORE:                                                                             \n",
      "0.9880086723513581                                                                 \n",
      "SCORE:                                                                             \n",
      "0.9876453868554589                                                                 \n",
      "SCORE:                                                                             \n",
      "0.9867153759859568                                                                 \n",
      "SCORE:                                                                             \n",
      "0.9877616382141466                                                                 \n",
      "SCORE:                                                                             \n",
      "0.986447997860975                                                                  \n",
      "SCORE:                                                                             \n",
      "0.9880609854627675                                                                 \n",
      "SCORE:                                                                             \n",
      "0.9874942600891647                                                                 \n",
      "SCORE:                                                                             \n",
      "0.9878459204491953                                                                 \n",
      "SCORE:                                                                             \n",
      "0.9875552920524758                                                                 \n",
      "SCORE:                                                                             \n",
      "0.9878023261896873                                                                 \n",
      "SCORE:                                                                             \n",
      "0.9879389215361455                                                                 \n",
      "SCORE:                                                                             \n",
      "0.9880232037711941                                                                 \n",
      "SCORE:                                                                             \n",
      "0.9877877947698513                                                                 \n",
      "SCORE:                                                                             \n",
      "0.9871891002726094                                                                 \n",
      "SCORE:                                                                             \n",
      "0.9872443196679861                                                                 \n",
      "SCORE:                                                                             \n",
      "0.9878168576095233                                                                 \n",
      "SCORE:                                                                             \n",
      "0.9879505466720142                                                                 \n",
      "SCORE:                                                                             \n",
      "0.9879098586964735                                                                 \n",
      "SCORE:                                                                             \n",
      "0.9878052324736545                                                                 \n",
      "SCORE:                                                                             \n",
      "0.9880028597834237                                                                 \n",
      "SCORE:                                                                             \n",
      "0.9875436669166071                                                                 \n",
      "SCORE:                                                                             \n",
      "0.9878197638934905                                                                   \n",
      "SCORE:                                                                                  \n",
      "0.9878924209926704                                                                      \n",
      "SCORE:                                                                                  \n",
      "0.9879999534994566                                                                      \n",
      "SCORE:                                                                                  \n",
      "0.9879360152521782                                                                      \n",
      "SCORE:                                                                                  \n",
      "0.9879243901163095                                                                      \n",
      "SCORE:                                                                                  \n",
      "0.9877877947698513                                                                   \n",
      "SCORE:                                                                               \n",
      "0.9879272964002767                                                                   \n",
      "SCORE:                                                                               \n",
      "0.9873983527182474                                                                   \n",
      "SCORE:                                                                               \n",
      "0.9879999534994566                                                                   \n",
      "SCORE:                                                                               \n",
      "0.9879737969437518                                                                   \n",
      "SCORE:                                                                               \n",
      "0.987886608424736                                                                    \n",
      "SCORE:                                                                               \n",
      "0.9880202974872269                                                                   \n",
      "SCORE:                                                                               \n",
      "0.9879650780918502                                                                   \n",
      "SCORE:                                                                               \n",
      "0.9880319226230957                                                                   \n",
      "SCORE:                                                                               \n",
      "0.9880464540429317                                                                   \n",
      "SCORE:                                                                               \n",
      "0.9879708906597846                                                                   \n",
      "SCORE:                                                                               \n",
      "0.9878662644369656                                                                   \n",
      "SCORE:                                                                               \n",
      "0.9879999534994566                                                                   \n",
      "SCORE:                                                                               \n",
      "0.9879883283635877                                                                   \n",
      "SCORE:                                                                               \n",
      "0.987901139844572                                                                    \n",
      "SCORE:                                                                               \n",
      "0.9878633581529984                                                                   \n",
      "SCORE:                                                                               \n",
      "0.9878546393010968                                                                   \n",
      "SCORE:                                                                               \n",
      "0.9876657308432293                                                                   \n",
      "SCORE:                                                                               \n",
      "0.9879825157956533                                                                   \n",
      "SCORE:                                                                               \n",
      "0.9877587319301794                                                                   \n",
      "SCORE:                                                                               \n",
      "0.9879679843758173                                                                   \n",
      "SCORE:                                                                               \n",
      "0.9879243901163095                                                                   \n",
      "SCORE:                                                                               \n",
      "0.9877645444981138                                                                   \n",
      "SCORE:                                                                               \n",
      "0.9879505466720142                                                                   \n",
      "SCORE:                                                                               \n",
      "0.9880348289070628                                                                   \n",
      "SCORE:                                                                               \n",
      "0.9875291354967711                                                                   \n",
      "SCORE:                                                                               \n",
      "0.9878807958568016                                                                   \n",
      "SCORE:                                                                               \n",
      "0.9878517330171296                                                                   \n",
      "SCORE:                                                                               \n",
      "0.9879941409315222                                                                   \n",
      "SCORE:                                                                               \n",
      "0.9879679843758173                                                                   \n",
      "SCORE:                                                                               \n",
      "0.987901139844572                                                                    \n",
      "SCORE:                                                                               \n",
      "0.9864363727251062                                                                   \n",
      "SCORE:                                                                               \n",
      "0.9877965136217529                                                                   \n",
      "SCORE:                                                                               \n",
      "0.9877471067943107                                                                   \n",
      "SCORE:                                                                               \n",
      "0.9878226701774577                                                                   \n"
     ]
    },
    {
     "name": "stdout",
     "output_type": "stream",
     "text": [
      "SCORE:                                                                               \n",
      "0.9878255764614249                                                                   \n",
      "SCORE:                                                                               \n",
      "0.987032160938381                                                                    \n",
      "SCORE:                                                                               \n",
      "0.9879272964002767                                                                   \n",
      "SCORE:                                                                               \n",
      "0.9880987671543411                                                                   \n",
      "100%|██████████| 100/100 [1:35:03<00:00, 57.04s/trial, best loss: -0.9880987671543411]\n",
      "The best hyperparameters are :  \n",
      "\n",
      "{'colsample_bytree': 0.8338860939370216, 'max_depth': 14.0, 'min_child_weight': 1.0, 'subsample': 0.9696949077337427}\n"
     ]
    }
   ],
   "source": [
    "trials = Trials()\n",
    "best = fmin(fn=hyperparameter_tuning,\n",
    "            space=space,\n",
    "            algo=tpe.suggest,\n",
    "            max_evals=100,\n",
    "            trials=trials)\n",
    "\n",
    "print(\"The best hyperparameters are : \",\"\\n\")\n",
    "print (best)"
   ]
  },
  {
   "cell_type": "markdown",
   "metadata": {},
   "source": [
    "## Train XGBoost Model with tuned hyperparameters"
   ]
  },
  {
   "cell_type": "code",
   "execution_count": 10,
   "metadata": {},
   "outputs": [
    {
     "name": "stdout",
     "output_type": "stream",
     "text": [
      "\n",
      "Tuned Hyperparameters for model training: \n",
      " {'max_depth': 14, 'min_child_weight': 1, 'subsample': 0.969, 'colsample_bytree': 0.833, 'eval_metric': 'logloss', 'objective': 'binary:logistic'} \n",
      "The number of rounds for boosting:  180\n",
      "Start training model\n",
      "[0]\tTest-logloss:0.45160\n",
      "Will train until Test-logloss hasn't improved in 10 rounds.\n",
      "[1]\tTest-logloss:0.31882\n",
      "[2]\tTest-logloss:0.23570\n",
      "[3]\tTest-logloss:0.17924\n",
      "[4]\tTest-logloss:0.14030\n",
      "[5]\tTest-logloss:0.11325\n",
      "[6]\tTest-logloss:0.09365\n",
      "[7]\tTest-logloss:0.07941\n",
      "[8]\tTest-logloss:0.06964\n",
      "[9]\tTest-logloss:0.06211\n",
      "[10]\tTest-logloss:0.05669\n",
      "[11]\tTest-logloss:0.05253\n",
      "[12]\tTest-logloss:0.04960\n",
      "[13]\tTest-logloss:0.04745\n",
      "[14]\tTest-logloss:0.04595\n",
      "[15]\tTest-logloss:0.04485\n",
      "[16]\tTest-logloss:0.04408\n",
      "[17]\tTest-logloss:0.04353\n",
      "[18]\tTest-logloss:0.04304\n",
      "[19]\tTest-logloss:0.04279\n",
      "[20]\tTest-logloss:0.04255\n",
      "[21]\tTest-logloss:0.04234\n",
      "[22]\tTest-logloss:0.04222\n",
      "[23]\tTest-logloss:0.04210\n",
      "[24]\tTest-logloss:0.04199\n",
      "[25]\tTest-logloss:0.04187\n",
      "[26]\tTest-logloss:0.04179\n",
      "[27]\tTest-logloss:0.04174\n",
      "[28]\tTest-logloss:0.04172\n",
      "[29]\tTest-logloss:0.04174\n",
      "[30]\tTest-logloss:0.04176\n",
      "[31]\tTest-logloss:0.04177\n",
      "[32]\tTest-logloss:0.04176\n",
      "[33]\tTest-logloss:0.04170\n",
      "[34]\tTest-logloss:0.04170\n",
      "[35]\tTest-logloss:0.04174\n",
      "[36]\tTest-logloss:0.04177\n",
      "[37]\tTest-logloss:0.04177\n",
      "[38]\tTest-logloss:0.04174\n",
      "[39]\tTest-logloss:0.04172\n",
      "[40]\tTest-logloss:0.04169\n",
      "[41]\tTest-logloss:0.04163\n",
      "[42]\tTest-logloss:0.04163\n",
      "[43]\tTest-logloss:0.04164\n",
      "[44]\tTest-logloss:0.04168\n",
      "[45]\tTest-logloss:0.04168\n",
      "[46]\tTest-logloss:0.04168\n",
      "[47]\tTest-logloss:0.04168\n",
      "[48]\tTest-logloss:0.04165\n",
      "[49]\tTest-logloss:0.04166\n",
      "[50]\tTest-logloss:0.04163\n",
      "[51]\tTest-logloss:0.04163\n",
      "[52]\tTest-logloss:0.04164\n",
      "[53]\tTest-logloss:0.04167\n",
      "[54]\tTest-logloss:0.04167\n",
      "[55]\tTest-logloss:0.04166\n",
      "[56]\tTest-logloss:0.04169\n",
      "[57]\tTest-logloss:0.04169\n",
      "[58]\tTest-logloss:0.04171\n",
      "[59]\tTest-logloss:0.04170\n",
      "[60]\tTest-logloss:0.04174\n",
      "Stopping. Best iteration:\n",
      "[50]\tTest-logloss:0.04163\n",
      "\n",
      "Finish training model\n"
     ]
    }
   ],
   "source": [
    "# Tuned hyperparameters\n",
    "param = {\n",
    "    'max_depth':14,\n",
    "    'min_child_weight':1,\n",
    "    'subsample': 0.969,\n",
    "    'colsample_bytree': 0.833,\n",
    "    'eval_metric': 'logloss',\n",
    "    'objective': 'binary:logistic'}\n",
    "n_estimators = 180\n",
    "\n",
    "print('\\nTuned Hyperparameters for model training: \\n', param, \n",
    "      '\\nThe number of rounds for boosting: ', n_estimators )\n",
    "\n",
    "print('Start training model')\n",
    "model = xgb.train(param, train, n_estimators, evals=[(test, \"Test\")], early_stopping_rounds=10)\n",
    "print('Finish training model')"
   ]
  },
  {
   "cell_type": "code",
   "execution_count": 11,
   "metadata": {},
   "outputs": [
    {
     "name": "stdout",
     "output_type": "stream",
     "text": [
      "Best mlogloss: 0.04 with 51 rounds\n"
     ]
    }
   ],
   "source": [
    "print(\"Best mlogloss: {:.2f} with {} rounds\".format(model.best_score, model.best_iteration+1))"
   ]
  },
  {
   "cell_type": "markdown",
   "metadata": {},
   "source": [
    "## Perform Prediction with XGBoost model"
   ]
  },
  {
   "cell_type": "code",
   "execution_count": 13,
   "metadata": {},
   "outputs": [
    {
     "name": "stdout",
     "output_type": "stream",
     "text": [
      "Start prediction\n",
      "Finish prediction\n",
      "Accuracy Score: 0.9880958608703739\n"
     ]
    }
   ],
   "source": [
    "print('Start prediction')\n",
    "predictions = model.predict(test)\n",
    "print('Finish prediction')\n",
    "print('Accuracy Score:', accuracy_score(y_test,predictions.round()))"
   ]
  },
  {
   "cell_type": "markdown",
   "metadata": {},
   "source": [
    "### Classification Report"
   ]
  },
  {
   "cell_type": "code",
   "execution_count": 15,
   "metadata": {},
   "outputs": [
    {
     "name": "stdout",
     "output_type": "stream",
     "text": [
      "\n",
      "*Classification Report:\n",
      "               precision    recall  f1-score   support\n",
      "\n",
      "       delay       0.81      0.63      0.71      7887\n",
      "      ontime       0.99      1.00      0.99    336195\n",
      "\n",
      "    accuracy                           0.99    344082\n",
      "   macro avg       0.90      0.81      0.85    344082\n",
      "weighted avg       0.99      0.99      0.99    344082\n",
      "\n"
     ]
    }
   ],
   "source": [
    "class_report = classification_report(y_test, predictions.round(), target_names=['delay', 'ontime'])\n",
    "print ('\\n*Classification Report:\\n', class_report)"
   ]
  },
  {
   "cell_type": "code",
   "execution_count": 24,
   "metadata": {},
   "outputs": [
    {
     "data": {
      "image/png": "[encoded data removed]",
      "text/plain": [
       "<Figure size 576x576 with 2 Axes>"
      ]
     },
     "metadata": {
      "needs_background": "light"
     },
     "output_type": "display_data"
    }
   ],
   "source": [
    "# Plot heatmap for Classification Report\n",
    "report = classification_report(y_test, predictions.round(), target_names=['delay', 'ontime'], output_dict = True)\n",
    "rp = pd.DataFrame(report).transpose()\n",
    "\n",
    "rp = rp.iloc[:2,:3]\n",
    "\n",
    "cmap = sb.diverging_palette(250, 20, as_cmap=True)\n",
    "plt.subplots(figsize=(8, 8)) \n",
    "heat_map = sb.heatmap(rp, cmap=cmap, annot=True, vmax=1, vmin=0, center=0.5, \n",
    "                      square=False, linewidths=.3, cbar_kws={\"shrink\": .8})\n",
    "heat_map.figure.tight_layout()\n",
    "heat_map.figure.subplots_adjust(bottom = 0.25)\n",
    "plt.title('XGBoost Model \\nClassification Report')\n",
    "plt.show()"
   ]
  },
  {
   "cell_type": "markdown",
   "metadata": {},
   "source": [
    "### Confusion Matrix"
   ]
  },
  {
   "cell_type": "code",
   "execution_count": 17,
   "metadata": {},
   "outputs": [
    {
     "name": "stdout",
     "output_type": "stream",
     "text": [
      "\n",
      "Confusion Matrix: \n",
      " [[  4970   2917]\n",
      " [  1179 335016]]\n"
     ]
    }
   ],
   "source": [
    "#Create a confusion matrix to see how the model performed in classifying for each cluster\n",
    "cm = confusion_matrix(y_test, predictions.round())\n",
    "print('\\nConfusion Matrix: \\n', cm)"
   ]
  },
  {
   "cell_type": "code",
   "execution_count": 19,
   "metadata": {},
   "outputs": [
    {
     "name": "stdout",
     "output_type": "stream",
     "text": [
      "           delay    ontime\n",
      "delay   0.630151  0.369849\n",
      "ontime  0.003507  0.996493\n"
     ]
    }
   ],
   "source": [
    "#Neutralize the confusion matrix and convert it to dataframe\n",
    "cm_neu = cm.astype('float') / cm.sum(axis=1)[:, np.newaxis]\n",
    "cmtx = pd.DataFrame(cm_neu, \n",
    "                    index=['delay', 'ontime'], \n",
    "                    columns=['delay', 'ontime'])\n",
    "print(cmtx)"
   ]
  },
  {
   "cell_type": "code",
   "execution_count": 20,
   "metadata": {},
   "outputs": [
    {
     "data": {
      "image/png": "[encoded data removed]",
      "text/plain": [
       "<Figure size 576x576 with 2 Axes>"
      ]
     },
     "metadata": {
      "needs_background": "light"
     },
     "output_type": "display_data"
    }
   ],
   "source": [
    "# Plot heatmap for Confusion Matrix\n",
    "plt.subplots(figsize=(8, 8)) \n",
    "heat_map = sb.heatmap(cmtx, cmap=cmap, annot=True, vmax=1, vmin=0, center=0.5, \n",
    "                      square=False, linewidths=.3, cbar_kws={\"shrink\": .8})\n",
    "heat_map.figure.tight_layout()\n",
    "heat_map.figure.subplots_adjust(bottom = 0.25)\n",
    "plt.ylabel('True Label')\n",
    "plt.xlabel('Predicted Label')\n",
    "plt.title('XGBoost Model \\nNormalized Confusion Matrix')\n",
    "plt.show()"
   ]
  },
  {
   "cell_type": "markdown",
   "metadata": {},
   "source": [
    "### Feature Importance"
   ]
  },
  {
   "cell_type": "code",
   "execution_count": 22,
   "metadata": {},
   "outputs": [
    {
     "data": {
      "image/png": "[encoded data removed]",
      "text/plain": [
       "<Figure size 432x288 with 1 Axes>"
      ]
     },
     "metadata": {
      "needs_background": "light"
     },
     "output_type": "display_data"
    }
   ],
   "source": [
    "plot_importance(model)\n",
    "plt.show()"
   ]
  },
  {
   "cell_type": "code",
   "execution_count": null,
   "metadata": {},
   "outputs": [],
   "source": []
  }
 ],
 "metadata": {
  "kernelspec": {
   "display_name": "Python 3",
   "language": "python",
   "name": "python3"
  },
  "language_info": {
   "codemirror_mode": {
    "name": "ipython",
    "version": 3
   },
   "file_extension": ".py",
   "mimetype": "text/x-python",
   "name": "python",
   "nbconvert_exporter": "python",
   "pygments_lexer": "ipython3",
   "version": "3.8.6rc1"
  }
 },
 "nbformat": 4,
 "nbformat_minor": 4
}
