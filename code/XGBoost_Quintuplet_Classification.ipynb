{
 "cells": [
  {
   "cell_type": "markdown",
   "metadata": {},
   "source": [
    "# Import Libraries"
   ]
  },
  {
   "cell_type": "code",
   "execution_count": 1,
   "metadata": {},
   "outputs": [],
   "source": [
    "import pandas as pd\n",
    "import numpy as np\n",
    "import os\n",
    "import xgboost as xgb\n",
    "from xgboost import XGBClassifier, plot_importance\n",
    "from sklearn.model_selection import train_test_split\n",
    "from sklearn import preprocessing\n",
    "from sklearn.metrics import accuracy_score, classification_report, confusion_matrix\n",
    "import matplotlib.pyplot as plt\n",
    "import seaborn as sb\n",
    "from bayes_opt import BayesianOptimization\n",
    "from hyperopt import STATUS_OK, Trials, fmin, hp, tpe\n",
    "from imblearn.over_sampling import SMOTE"
   ]
  },
  {
   "cell_type": "markdown",
   "metadata": {},
   "source": [
    "# Pre-Process Data"
   ]
  },
  {
   "cell_type": "markdown",
   "metadata": {},
   "source": [
    "Import the dataset"
   ]
  },
  {
   "cell_type": "code",
   "execution_count": 3,
   "metadata": {},
   "outputs": [
    {
     "name": "stdout",
     "output_type": "stream",
     "text": [
      "Reading file:  combine_data_with_labels_new.csv\n"
     ]
    }
   ],
   "source": [
    "print(\"Reading file: \", \"combine_data_with_labels_new.csv\")\n",
    "df = pd.read_csv('combine_data_with_labels_new.csv')"
   ]
  },
  {
   "cell_type": "markdown",
   "metadata": {},
   "source": [
    "Select revelant weather conditions affecting the flight performance."
   ]
  },
  {
   "cell_type": "code",
   "execution_count": 4,
   "metadata": {},
   "outputs": [],
   "source": [
    "data = df[['HourlyAltimeterSetting', 'HourlyDewPointTemperature', 'HourlyDryBulbTemperature',\n",
    "           'HourlyPrecipitation', 'HourlyRelativeHumidity', 'HourlySeaLevelPressure', 'HourlyStationPressure', \n",
    "           'HourlyVisibility', 'HourlyWetBulbTemperature', 'HourlyWindSpeed']]"
   ]
  },
  {
   "cell_type": "markdown",
   "metadata": {},
   "source": [
    "Choose Label3 as the target for prediction and encode the target values to numeric types.\n",
    "Create an additional dictionary storing the inital target values mapped with encoded values."
   ]
  },
  {
   "cell_type": "code",
   "execution_count": 6,
   "metadata": {},
   "outputs": [
    {
     "name": "stdout",
     "output_type": "stream",
     "text": [
      "\n",
      " Inital target values mapped with encoded values: \n",
      " {'delay': 0, 'delay>15': 1, 'delay>30': 2, 'delay>60': 3, 'ontime': 4}\n"
     ]
    }
   ],
   "source": [
    "le = preprocessing.LabelEncoder()\n",
    "le.fit(df['Label3'])\n",
    "le_name_mapping = dict(zip(le.classes_, le.transform(le.classes_)))\n",
    "print('\\n Inital target values mapped with encoded values: \\n',le_name_mapping)"
   ]
  },
  {
   "cell_type": "markdown",
   "metadata": {},
   "source": [
    "# XGBoost for Multi-Classification"
   ]
  },
  {
   "cell_type": "markdown",
   "metadata": {},
   "source": [
    "## Loading data into DMatrices\n",
    "In order to use the native API for XGBoost, we will first need to build DMatrices. XGBoost likes DMatrices because it's a structure optimized for memory efficiency and training speed"
   ]
  },
  {
   "cell_type": "code",
   "execution_count": 7,
   "metadata": {},
   "outputs": [],
   "source": [
    "df['Label3'] = le.fit_transform(df['Label3'])\n",
    "\n",
    "#split data into training and test sets\n",
    "x_train, x_test, y_train, y_test = train_test_split(data, df.Label3, test_size=0.2, random_state=0)\n",
    "\n",
    "#convert training and test sets into DMatrices \n",
    "train = xgb.DMatrix(x_train, label=y_train)\n",
    "test = xgb.DMatrix(x_test, label=y_test)\n"
   ]
  },
  {
   "cell_type": "markdown",
   "metadata": {},
   "source": [
    "## Apply Bayesian Optimization for tuning hyperparameters using HYPEROPT library"
   ]
  },
  {
   "cell_type": "code",
   "execution_count": 8,
   "metadata": {},
   "outputs": [],
   "source": [
    "import hyperopt\n",
    "from hyperopt import fmin, tpe, hp, STATUS_OK, Trials\n",
    "space={'max_depth': hp.quniform(\"max_depth\", 8, 15, 1),\n",
    "       'subsample': hp.uniform('subsample', 0.5, 1),\n",
    "       'colsample_bytree' : hp.uniform('colsample_bytree', 0.5,1),\n",
    "       'min_child_weight' : hp.quniform('min_child_weight', 0, 5, 1),\n",
    "       'n_estimators': 180}"
   ]
  },
  {
   "cell_type": "code",
   "execution_count": 9,
   "metadata": {},
   "outputs": [],
   "source": [
    "# Classifier:\n",
    "def hyperparameter_tuning(space):\n",
    "    model = xgb.XGBClassifier(n_estimators =space['n_estimators'], \n",
    "                              max_depth = int(space['max_depth']), \n",
    "                              min_child_weight=space['min_child_weight'],\n",
    "                              subsample=space['subsample'],\n",
    "                              colsample_bytree=space['colsample_bytree'])\n",
    "    evaluation = [( x_train, y_train), ( x_test, y_test)]\n",
    "    \n",
    "    model.fit(x_train, y_train,\n",
    "            eval_set=evaluation, eval_metric=\"mlogloss\",\n",
    "            early_stopping_rounds=10,verbose=False)\n",
    "\n",
    "    pred = model.predict(x_test)\n",
    "    accuracy = accuracy_score(y_test, pred)\n",
    "    print (\"SCORE:\", accuracy)\n",
    "    #change the metric if you like\n",
    "    return {'loss': -accuracy, 'status': STATUS_OK, 'model': model}"
   ]
  },
  {
   "cell_type": "code",
   "execution_count": 10,
   "metadata": {},
   "outputs": [
    {
     "name": "stdout",
     "output_type": "stream",
     "text": [
      "SCORE:                                                 \n",
      "0.9820914781941514                                     \n",
      "SCORE:                                                                               \n",
      "0.9824663888259194                                                                   \n",
      "SCORE:                                                                               \n",
      "0.9824634825419523                                                                   \n",
      "SCORE:                                                                               \n",
      "0.9823879191588052                                                                   \n",
      "SCORE:                                                                               \n",
      "0.9818328189210711                                                                   \n",
      "SCORE:                                                                               \n",
      "0.9823995442946739                                                                   \n",
      "SCORE:                                                                               \n",
      "0.9825535773449352                                                                   \n",
      "SCORE:                                                                               \n",
      "0.9824518574060834                                                                   \n",
      "SCORE:                                                                               \n",
      "0.9823326997634285                                                                   \n",
      "SCORE:                                                                               \n",
      "0.9823966380107068                                                                   \n",
      "SCORE:                                                                                \n",
      "0.9824082631465755                                                                    \n",
      "SCORE:                                                                                \n",
      "0.9826727349875901                                                                    \n",
      "SCORE:                                                                                \n",
      "0.9825768276166728                                                                    \n",
      "SCORE:                                                                                \n",
      "0.9826320470120494                                                                    \n",
      "SCORE:                                                                                \n",
      "0.9825361396411321                                                                    \n",
      "SCORE:                                                                                \n",
      "0.9822832929359862                                                                    \n",
      "SCORE:                                                                                \n",
      "0.9823530437511988                                                                    \n",
      "SCORE:                                                                                \n",
      "0.9824227945664115                                                                      \n",
      "SCORE:                                                                                  \n",
      "0.9826233281601479                                                                      \n",
      "SCORE:                                                                                  \n",
      "0.9828035177661139                                                                      \n",
      "SCORE:                                                                                  \n",
      "0.9827424858028028                                                                      \n",
      "SCORE:                                                                                  \n",
      "0.98274539208677                                                                        \n",
      "SCORE:                                                                                  \n",
      "0.9826814538394918                                                                      \n",
      "SCORE:                                                                                  \n",
      "0.982730860666934                                                                       \n",
      "SCORE:                                                                                  \n",
      "0.9828064240500811                                                                      \n",
      "SCORE:                                                                                  \n",
      "0.9826611098517214                                                                      \n",
      "SCORE:                                                                                  \n",
      "0.9826087967403119                                                                      \n",
      "SCORE:                                                                                  \n",
      "0.9827221418150325                                                                      \n",
      "SCORE:                                                                                  \n",
      "0.9828151429019827                                                                      \n",
      "SCORE:                                                                                  \n",
      "0.9821931981330032                                                                      \n",
      "SCORE:                                                                                  \n",
      "0.9828151429019827                                                                      \n",
      "SCORE:                                                                                  \n",
      "0.9826843601234589                                                                      \n",
      "SCORE:                                                                                  \n",
      "0.9827977051981795                                                                      \n",
      "SCORE:                                                                                  \n",
      "0.9824373259862474                                                                      \n",
      "SCORE:                                                                                  \n",
      "0.9826727349875901                                                                      \n",
      "SCORE:                                                                                  \n",
      "0.9827657360745403                                                                      \n",
      "SCORE:                                                                                  \n",
      "0.9823007306397894                                                                      \n",
      "SCORE:                                                                                  \n",
      "0.9826669224196558                                                                      \n",
      "SCORE:                                                                                  \n",
      "0.9825390459250992                                                                      \n",
      "SCORE:                                                                                  \n",
      "0.9827163292470981                                                                      \n",
      "SCORE:                                                                                  \n",
      "0.9824983579495585                                                                      \n",
      "SCORE:                                                                                  \n",
      "0.9828674560133922                                                                      \n",
      "SCORE:                                                                                  \n",
      "0.9823588563191332                                                                      \n",
      "SCORE:                                                                                  \n",
      "0.9826087967403119                                                                      \n",
      "SCORE:                                                                                  \n",
      "0.9824140757145099                                                                      \n",
      "SCORE:                                                                                  \n",
      "0.9828238617538843                                                                      \n",
      "SCORE:                                                                                  \n",
      "0.9827657360745403                                                                      \n",
      "SCORE:                                                                                  \n",
      "0.9823675751710348                                                                      \n",
      "SCORE:                                                                                  \n",
      "0.9821089158979546                                                                      \n",
      "SCORE:                                                                                  \n",
      "0.9824634825419523                                                                      \n",
      "SCORE:                                                                                  \n",
      "0.9827017978272621                                                                      \n",
      "SCORE:                                                                                  \n",
      "0.9827482983707372                                                                      \n",
      "SCORE:                                                                                  \n",
      "0.9825012642335257                                                                      \n",
      "SCORE:                                                                                  \n",
      "0.9826349532960167                                                                      \n",
      "SCORE:                                                                                  \n",
      "0.9827977051981795                                                                      \n",
      "SCORE:                                                                                  \n",
      "0.9828064240500811                                                                      \n",
      "SCORE:                                                                                  \n",
      "0.982640765863951                                                                       \n",
      "SCORE:                                                                                  \n",
      "0.9826872664074261                                                                      \n",
      "SCORE:                                                                                  \n",
      "0.9825477647770008                                                                      \n",
      "SCORE:                                                                                  \n",
      "0.9827076103951965                                                                      \n",
      "SCORE:                                                                                  \n",
      "0.9827686423585076                                                                      \n",
      "SCORE:                                                                                  \n",
      "0.9825942653204759                                                                      \n",
      "SCORE:                                                                                  \n",
      "0.9824867328136898                                                                      \n",
      "SCORE:                                                                                  \n",
      "0.9827686423585076                                                                      \n",
      "SCORE:                                                                                  \n",
      "0.9823792003069036                                                                      \n",
      "SCORE:                                                                                  \n",
      "0.9828006114821467                                                                      \n",
      "SCORE:                                                                                  \n",
      "0.9828790811492609                                                                      \n",
      "SCORE:                                                                                  \n",
      "0.9827134229631309                                                                      \n",
      "SCORE:                                                                                  \n",
      "0.982850018309589                                                                       \n",
      "SCORE:                                                                                  \n",
      "0.9826814538394918                                                                      \n",
      "SCORE:                                                                                  \n",
      "0.9828325806057858                                                                    \n",
      "SCORE:                                                                                \n",
      "0.9827715486424747                                                                    \n",
      "SCORE:                                                                                \n",
      "0.9828878000011625                                                                    \n",
      "SCORE:                                                                                \n",
      "0.9828006114821467                                                                    \n",
      "SCORE:                                                                                \n",
      "0.9827279543829669                                                                    \n",
      "SCORE:                                                                                \n",
      "0.9828064240500811                                                                    \n",
      "SCORE:                                                                                \n",
      "0.9828035177661139                                                                    \n",
      "SCORE:                                                                                \n",
      "0.9826436721479183                                                                    \n",
      "SCORE:                                                                                \n",
      "0.98274539208677                                                                      \n",
      "SCORE:                                                                                \n",
      "0.9823501374672317                                                                    \n",
      "SCORE:                                                                                \n",
      "0.982759923506606                                                                     \n",
      "SCORE:                                                                                \n",
      "0.9828151429019827                                                                    \n",
      "SCORE:                                                                                \n",
      "0.9829052377049656                                                                    \n",
      "SCORE:                                                                                \n",
      "0.9827541109386716                                                                    \n",
      "SCORE:                                                                                \n",
      "0.9825390459250992                                                                    \n",
      "SCORE:                                                                                \n",
      "0.9827570172226388                                                                    \n",
      "SCORE:                                                                                \n",
      "0.982280386652019                                                                     \n",
      "SCORE:                                                                                \n",
      "0.9826349532960167                                                                    \n",
      "SCORE:                                                                                \n",
      "0.9828151429019827                                                                    \n",
      "SCORE:                                                                                \n",
      "0.9827628297905732                                                                    \n",
      "SCORE:                                                                                \n",
      "0.9827221418150325                                                                    \n",
      "SCORE:                                                                                \n",
      "0.9827686423585076                                                                    \n",
      "SCORE:                                                                                \n",
      "0.9826843601234589                                                                    \n"
     ]
    },
    {
     "name": "stdout",
     "output_type": "stream",
     "text": [
      "SCORE:                                                                                \n",
      "0.9823850128748379                                                                    \n",
      "SCORE:                                                                                \n",
      "0.9826087967403119                                                                    \n",
      "SCORE:                                                                                \n",
      "0.9828325806057858                                                                    \n",
      "SCORE:                                                                                \n",
      "0.9827715486424747                                                                    \n",
      "SCORE:                                                                                \n",
      "0.9827541109386716                                                                    \n",
      "SCORE:                                                                                \n",
      "0.9821757604292                                                                       \n",
      "SCORE:                                                                                \n",
      "0.9826872664074261                                                                    \n",
      "100%|██████████| 100/100 [4:10:32<00:00, 150.33s/trial, best loss: -0.9829052377049656]\n",
      "The best hyperparameters are :  \n",
      "\n",
      "{'colsample_bytree': 0.8862226637361379, 'max_depth': 15.0, 'min_child_weight': 2.0, 'subsample': 0.9980814227739674}\n"
     ]
    }
   ],
   "source": [
    "trials = Trials()\n",
    "best = fmin(fn=hyperparameter_tuning,\n",
    "            space=space,\n",
    "            algo=tpe.suggest,\n",
    "            max_evals=100,\n",
    "            trials=trials)\n",
    "\n",
    "print(\"The best hyperparameters are : \",\"\\n\")\n",
    "print (best)"
   ]
  },
  {
   "cell_type": "markdown",
   "metadata": {},
   "source": [
    "## Train XGBoost Model with the tuned hyperparameters"
   ]
  },
  {
   "cell_type": "code",
   "execution_count": 11,
   "metadata": {},
   "outputs": [
    {
     "name": "stdout",
     "output_type": "stream",
     "text": [
      "\n",
      "Optimal Hyperparameters for model training: \n",
      " {'max_depth': 15, 'min_child_weight': 2, 'subsample': 0.998, 'colsample_bytree': 0.886, 'eval_metric': 'mlogloss', 'objective': 'multi:softmax', 'num_class': 5} \n",
      "The number of rounds for boosting:  180\n",
      "Start training model\n",
      "[0]\tTest-mlogloss:0.96912\n",
      "Will train until Test-mlogloss hasn't improved in 10 rounds.\n",
      "[1]\tTest-mlogloss:0.67549\n",
      "[2]\tTest-mlogloss:0.49262\n",
      "[3]\tTest-mlogloss:0.36997\n",
      "[4]\tTest-mlogloss:0.28454\n",
      "[5]\tTest-mlogloss:0.22406\n",
      "[6]\tTest-mlogloss:0.18072\n",
      "[7]\tTest-mlogloss:0.14932\n",
      "[8]\tTest-mlogloss:0.12649\n",
      "[9]\tTest-mlogloss:0.10995\n",
      "[10]\tTest-mlogloss:0.09794\n",
      "[11]\tTest-mlogloss:0.08922\n",
      "[12]\tTest-mlogloss:0.08283\n",
      "[13]\tTest-mlogloss:0.07824\n",
      "[14]\tTest-mlogloss:0.07492\n",
      "[15]\tTest-mlogloss:0.07259\n",
      "[16]\tTest-mlogloss:0.07085\n",
      "[17]\tTest-mlogloss:0.06967\n",
      "[18]\tTest-mlogloss:0.06887\n",
      "[19]\tTest-mlogloss:0.06832\n",
      "[20]\tTest-mlogloss:0.06798\n",
      "[21]\tTest-mlogloss:0.06779\n",
      "[22]\tTest-mlogloss:0.06765\n",
      "[23]\tTest-mlogloss:0.06760\n",
      "[24]\tTest-mlogloss:0.06758\n",
      "[25]\tTest-mlogloss:0.06759\n",
      "[26]\tTest-mlogloss:0.06760\n",
      "[27]\tTest-mlogloss:0.06764\n",
      "[28]\tTest-mlogloss:0.06769\n",
      "[29]\tTest-mlogloss:0.06777\n",
      "[30]\tTest-mlogloss:0.06784\n",
      "[31]\tTest-mlogloss:0.06793\n",
      "[32]\tTest-mlogloss:0.06798\n",
      "[33]\tTest-mlogloss:0.06805\n",
      "[34]\tTest-mlogloss:0.06810\n",
      "Stopping. Best iteration:\n",
      "[24]\tTest-mlogloss:0.06758\n",
      "\n",
      "Finish training model\n"
     ]
    }
   ],
   "source": [
    "# Tuned hyperparameters\n",
    "param = {\n",
    "    'max_depth':15,\n",
    "    'min_child_weight':2,\n",
    "    'subsample': 0.998,\n",
    "    'colsample_bytree': 0.886,\n",
    "    'eval_metric': 'mlogloss',\n",
    "    'objective': 'multi:softmax',\n",
    "    'num_class': 5}\n",
    "n_estimators = 180\n",
    "\n",
    "print('\\nOptimal Hyperparameters for model training: \\n', param, \n",
    "      '\\nThe number of rounds for boosting: ', n_estimators)\n",
    "\n",
    "print('Start training model')\n",
    "model = xgb.train(param, train, n_estimators , evals=[(test, \"Test\")], early_stopping_rounds=10)\n",
    "print('Finish training model')"
   ]
  },
  {
   "cell_type": "code",
   "execution_count": 20,
   "metadata": {},
   "outputs": [
    {
     "name": "stdout",
     "output_type": "stream",
     "text": [
      "Best mlogloss: 0.07 with 25 rounds\n"
     ]
    }
   ],
   "source": [
    "print(\"Best mlogloss: {:.2f} with {} rounds\".format(model.best_score, model.best_iteration+1))"
   ]
  },
  {
   "cell_type": "markdown",
   "metadata": {},
   "source": [
    "## Train the XGBoost model with optimal hyperparameters"
   ]
  },
  {
   "cell_type": "code",
   "execution_count": null,
   "metadata": {},
   "outputs": [],
   "source": [
    "print('Start training model')\n",
    "best_model = xgb.train(param, train, n_estimators, evals=[(test, \"Test\")])\n",
    "print('Finish training model')"
   ]
  },
  {
   "cell_type": "markdown",
   "metadata": {},
   "source": [
    "## Perform Prediction with XGBoost model"
   ]
  },
  {
   "cell_type": "code",
   "execution_count": 21,
   "metadata": {},
   "outputs": [
    {
     "name": "stdout",
     "output_type": "stream",
     "text": [
      "Start prediction\n",
      "Finish prediction\n",
      "Accuracy Score: 0.9828936125690969\n"
     ]
    }
   ],
   "source": [
    "print('Start prediction')\n",
    "predictions = model.predict(test)\n",
    "print('Finish prediction')\n",
    "print('Accuracy Score:', accuracy_score(y_test,predictions))"
   ]
  },
  {
   "cell_type": "markdown",
   "metadata": {},
   "source": [
    "### Classification Report"
   ]
  },
  {
   "cell_type": "code",
   "execution_count": 22,
   "metadata": {},
   "outputs": [
    {
     "name": "stdout",
     "output_type": "stream",
     "text": [
      "\n",
      "*Classification Report:\n",
      "               precision    recall  f1-score   support\n",
      "\n",
      "       delay       0.16      0.03      0.06       622\n",
      "    delay>15       0.23      0.09      0.13      1149\n",
      "    delay>30       0.40      0.24      0.30      2124\n",
      "    delay>60       0.64      0.54      0.58      3992\n",
      "      ontime       0.99      1.00      0.99    336195\n",
      "\n",
      "    accuracy                           0.98    344082\n",
      "   macro avg       0.48      0.38      0.41    344082\n",
      "weighted avg       0.98      0.98      0.98    344082\n",
      "\n"
     ]
    }
   ],
   "source": [
    "class_report = classification_report(y_test, predictions, target_names=['delay', 'delay>15', 'delay>30', \n",
    "                                                                        'delay>60', 'ontime'])\n",
    "print ('\\n*Classification Report:\\n', class_report)"
   ]
  },
  {
   "cell_type": "code",
   "execution_count": 23,
   "metadata": {},
   "outputs": [
    {
     "data": {
      "image/png": "[encoded data removed]",
      "text/plain": [
       "<Figure size 576x576 with 2 Axes>"
      ]
     },
     "metadata": {
      "needs_background": "light"
     },
     "output_type": "display_data"
    }
   ],
   "source": [
    "# Plot heatmap for Classification Report\n",
    "report = classification_report(y_test, predictions, target_names=['delay', 'delay>15', 'delay>30', \n",
    "                                                                  'delay>60', 'ontime'], output_dict = True)\n",
    "rp = pd.DataFrame(report).transpose()\n",
    "\n",
    "rp = rp.iloc[:5,:3]\n",
    "\n",
    "cmap = sb.diverging_palette(250, 20, as_cmap=True)\n",
    "plt.subplots(figsize=(8, 8)) \n",
    "heat_map = sb.heatmap(rp, cmap=cmap, annot=True, vmax=1, vmin=0, center=0.5, \n",
    "                      square=False, linewidths=.3, cbar_kws={\"shrink\": .8})\n",
    "heat_map.figure.tight_layout()\n",
    "heat_map.figure.subplots_adjust(bottom = 0.25)\n",
    "plt.title('XGBoost Model \\nClassification Report')\n",
    "plt.show()"
   ]
  },
  {
   "cell_type": "markdown",
   "metadata": {},
   "source": [
    "### Confusion Matrix"
   ]
  },
  {
   "cell_type": "code",
   "execution_count": 24,
   "metadata": {},
   "outputs": [
    {
     "name": "stdout",
     "output_type": "stream",
     "text": [
      "\n",
      "Confusion Matrix: \n",
      " [[    21     46     60     82    413]\n",
      " [    21     99    184    168    677]\n",
      " [    18    115    511    500    980]\n",
      " [    30     70    325   2138   1429]\n",
      " [    45     93    192    438 335427]]\n"
     ]
    }
   ],
   "source": [
    "#Create a confusion matrix to see how the model performed in classifying for each cluster\n",
    "cm = confusion_matrix(y_test, predictions)\n",
    "print('\\nConfusion Matrix: \\n', cm)"
   ]
  },
  {
   "cell_type": "code",
   "execution_count": 25,
   "metadata": {},
   "outputs": [
    {
     "name": "stdout",
     "output_type": "stream",
     "text": [
      "             delay  delay>15  delay>30  delay>60    ontime\n",
      "delay     0.033762  0.073955  0.096463  0.131833  0.663987\n",
      "delay>15  0.018277  0.086162  0.160139  0.146214  0.589208\n",
      "delay>30  0.008475  0.054143  0.240584  0.235405  0.461394\n",
      "delay>60  0.007515  0.017535  0.081413  0.535571  0.357966\n",
      "ontime    0.000134  0.000277  0.000571  0.001303  0.997716\n"
     ]
    }
   ],
   "source": [
    "#Neutralize the confusion matrix and convert it to dataframe\n",
    "cm_neu = cm.astype('float') / cm.sum(axis=1)[:, np.newaxis]\n",
    "cmtx = pd.DataFrame(cm_neu, \n",
    "                    index=['delay', 'delay>15', 'delay>30', 'delay>60', 'ontime'], \n",
    "                    columns=['delay', 'delay>15', 'delay>30', 'delay>60', 'ontime'])\n",
    "print(cmtx)"
   ]
  },
  {
   "cell_type": "code",
   "execution_count": 26,
   "metadata": {},
   "outputs": [
    {
     "data": {
      "image/png": "[encoded data removed]",
      "text/plain": [
       "<Figure size 576x576 with 2 Axes>"
      ]
     },
     "metadata": {
      "needs_background": "light"
     },
     "output_type": "display_data"
    }
   ],
   "source": [
    "# Plot heatmap for Confusion Matrix\n",
    "plt.subplots(figsize=(8, 8)) \n",
    "heat_map = sb.heatmap(cmtx, cmap=cmap, annot=True, vmax=1, vmin=0, center=0.5, \n",
    "                      square=False, linewidths=.3, cbar_kws={\"shrink\": .8})\n",
    "heat_map.figure.tight_layout()\n",
    "heat_map.figure.subplots_adjust(bottom = 0.25)\n",
    "plt.ylabel('True Label')\n",
    "plt.xlabel('Predicted Label')\n",
    "plt.title('XGBoost Model \\nNormalized Confusion Matrix')\n",
    "plt.show()"
   ]
  },
  {
   "cell_type": "markdown",
   "metadata": {},
   "source": [
    "### Feature Importance"
   ]
  },
  {
   "cell_type": "code",
   "execution_count": 28,
   "metadata": {},
   "outputs": [
    {
     "data": {
      "image/png": "[encoded data removed]",
      "text/plain": [
       "<Figure size 432x288 with 1 Axes>"
      ]
     },
     "metadata": {
      "needs_background": "light"
     },
     "output_type": "display_data"
    }
   ],
   "source": [
    "plot_importance(model)\n",
    "plt.show()"
   ]
  },
  {
   "cell_type": "code",
   "execution_count": null,
   "metadata": {},
   "outputs": [],
   "source": []
  }
 ],
 "metadata": {
  "kernelspec": {
   "display_name": "Python 3",
   "language": "python",
   "name": "python3"
  },
  "language_info": {
   "codemirror_mode": {
    "name": "ipython",
    "version": 3
   },
   "file_extension": ".py",
   "mimetype": "text/x-python",
   "name": "python",
   "nbconvert_exporter": "python",
   "pygments_lexer": "ipython3",
   "version": "3.8.6rc1"
  }
 },
 "nbformat": 4,
 "nbformat_minor": 4
}
