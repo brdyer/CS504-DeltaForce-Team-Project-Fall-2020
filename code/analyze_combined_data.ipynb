{
 "cells": [
  {
   "cell_type": "markdown",
   "metadata": {},
   "source": [
    "# Import libraries"
   ]
  },
  {
   "cell_type": "code",
   "execution_count": 1,
   "metadata": {},
   "outputs": [],
   "source": [
    "import os\n",
    "import sys\n",
    "import statistics\n",
    "import numpy as np\n",
    "import pandas as pd\n",
    "from collections import namedtuple\n",
    "import matplotlib.pyplot as plt\n",
    "import seaborn as sns\n",
    "import statsmodels.api as sm\n",
    "from sklearn.metrics import mean_squared_error, r2_score\n",
    "from sklearn.model_selection import train_test_split\n",
    "from statsmodels.stats.outliers_influence import variance_inflation_factor"
   ]
  },
  {
   "cell_type": "markdown",
   "metadata": {},
   "source": [
    "# Configuration"
   ]
  },
  {
   "cell_type": "markdown",
   "metadata": {},
   "source": [
    "Configure properties that will be used for the machine learning model and regression tests\n",
    "\n",
    "Edit these as needed before running the notebook"
   ]
  },
  {
   "cell_type": "code",
   "execution_count": 2,
   "metadata": {},
   "outputs": [],
   "source": [
    "# The proportion of the dataset that should be used for training the model (out of 1.0)\n",
    "proportion_train_data = 0.75\n",
    "\n",
    "# The number of trials that should be conducted per regression; each trial uses a randomly-generated training dataset\n",
    "number_of_trials = 10\n",
    "\n",
    "# The file path where the combined dataset CSV is located\n",
    "file_path = \"C:/Users/jmmen/Documents/datasets\"\n",
    "\n",
    "# The name of the Combined Data CSV file\n",
    "file_name = \"combine_data_with_labels_new.csv\""
   ]
  },
  {
   "cell_type": "markdown",
   "metadata": {},
   "source": [
    "# Functions"
   ]
  },
  {
   "cell_type": "markdown",
   "metadata": {},
   "source": [
    "Define function that will be used for generating summary statistics and performing regression analysis"
   ]
  },
  {
   "cell_type": "code",
   "execution_count": 3,
   "metadata": {},
   "outputs": [],
   "source": [
    "# (DataFrame df, String dependent_var, String[] independent_vars)\n",
    "def dataframe_summary_statistics(df, independent_vars):    \n",
    "    # Plot correlation heatmap\n",
    "    corr = df[independent_vars].corr()\n",
    "    mask = np.triu(np.ones_like(corr, dtype=bool))\n",
    "    cmap = sns.diverging_palette(250, 20, as_cmap=True)\n",
    "    plt.subplots(figsize=(15, 15))    \n",
    "    \n",
    "    # Return formatted plot\n",
    "    hm = sns.heatmap(corr, mask=mask, cmap=cmap, annot=True, vmax=1.0, vmin=-1.0, center=0, square=False, linewidths=.3, cbar_kws={\"shrink\": .8})\n",
    "    hm.figure.tight_layout()\n",
    "    hm.figure.subplots_adjust(bottom = 0.25)\n",
    "    return hm, plt;"
   ]
  },
  {
   "cell_type": "code",
   "execution_count": 4,
   "metadata": {},
   "outputs": [],
   "source": [
    "# (DataFrame df, String dependent_var, String[] independent_vars, Double proportion_test_data, Integer number_of_trials)\n",
    "def perform_ml_regression(df_raw, dependent_var, independent_vars, proportion_test_data, number_of_trials):\n",
    "    # Multiple Regression ML train and test; X = Independent Variables, Y = Dependent Variable\n",
    "    all_vars = independent_vars.copy()\n",
    "    all_vars.append(dependent_var)\n",
    "    \n",
    "    # Fill any missing values with the mean (there should be very few)\n",
    "    df = df_raw[all_vars].copy()\n",
    "    df = df.fillna(df.mean())\n",
    "    \n",
    "    X = df[independent_vars]\n",
    "    X = sm.add_constant(X)\n",
    "    Y = df[dependent_var]\n",
    "    sqrt_mse_arr = []\n",
    "    r2_arr = []\n",
    "    pval_arr = []\n",
    "    coef_arr = []\n",
    "    vif = pd.Series([variance_inflation_factor(X.values, i) for i in range(X.shape[1])], index = X.columns)\n",
    "    \n",
    "    # Iterate equal to number of trials\n",
    "    for x in range(1, number_of_trials + 1):\n",
    "        # Split dataset into training and test data\n",
    "        x_train, x_test, y_train, y_test = train_test_split(X, Y, train_size = proportion_train_data)\n",
    "        \n",
    "        # Fit the OLS regression model using the training datasets (Ordinary Least Squares Linear Regression algorithm)\n",
    "        mreg = sm.OLS(endog = y_train, exog = x_train, missing = 'drop').fit()\n",
    "        \n",
    "        # Test the OLS model with the test datasets\n",
    "        test_results = mreg.predict(x_test)\n",
    "        sqrt_mse = np.sqrt(mean_squared_error(y_test, test_results))\n",
    "        r2 = r2_score(y_test, test_results)\n",
    "        print(\"Trial \", x, \"OLS; Square-Root of MSE: \", sqrt_mse, \"; R-Squared:\", r2)\n",
    "        \n",
    "        sqrt_mse_arr.append(sqrt_mse)\n",
    "        r2_arr.append(r2)\n",
    "        pval_arr.append(mreg.pvalues.sort_values())\n",
    "        coef_arr.append(pd.Series(mreg.params, index = X.columns))\n",
    "        \n",
    "    sum_coefs = pd.concat(coef_arr, axis=1, sort=False).sum(axis=1).divide(number_of_trials).sort_values(ascending = False)\n",
    "    sum_pvals = pd.concat(pval_arr, axis=1, sort=False).sum(axis=1).divide(number_of_trials).sort_values(ascending = True)\n",
    "    \n",
    "    regression_results = namedtuple(\"regression_results\", \"sqrt_mse_arr r2_arr pval_arr vif coef\")\n",
    "    return regression_results(sqrt_mse_arr, r2_arr, sum_pvals, vif, sum_coefs)"
   ]
  },
  {
   "cell_type": "markdown",
   "metadata": {},
   "source": [
    "# Pre-Process Data"
   ]
  },
  {
   "cell_type": "markdown",
   "metadata": {},
   "source": [
    "Import the dataframe"
   ]
  },
  {
   "cell_type": "code",
   "execution_count": 5,
   "metadata": {},
   "outputs": [
    {
     "name": "stdout",
     "output_type": "stream",
     "text": [
      "Current Path: C:\\Users\\jmmen\\Documents\\datasets\n",
      "Reading file:  combine_data.csv\n"
     ]
    }
   ],
   "source": [
    "try:\n",
    "    os.chdir(file_path)\n",
    "except:\n",
    "    sys.exit(\"Unable to reach default path. Aborting\")\n",
    "print(\"Current Path: \" + os.getcwd())\n",
    "print(\"Reading file: \", \"combine_data.csv\")\n",
    "wd_combined_init = pd.read_csv(file_name, sep=\",\", dtype=('str'))"
   ]
  },
  {
   "cell_type": "code",
   "execution_count": 6,
   "metadata": {},
   "outputs": [
    {
     "name": "stdout",
     "output_type": "stream",
     "text": [
      "Index(['DayOfWeek', 'FlightDate', 'Carrier', 'DepAirportID', 'DepStateAbr',\n",
      "       'CRSDepTime', 'ActualDepTime', 'DepDelay', 'DepDelayNew', 'Cancelled',\n",
      "       'WeatherDelay', 'WeatherDate', 'HourlyAltimeterSetting',\n",
      "       'HourlyDewPointTemperature', 'HourlyDryBulbTemperature',\n",
      "       'HourlyPrecipitation', 'HourlyRelativeHumidity',\n",
      "       'HourlySeaLevelPressure', 'HourlyStationPressure', 'HourlyVisibility',\n",
      "       'HourlyWetBulbTemperature', 'HourlyWindSpeed', 'Label1', 'Label2',\n",
      "       'Label3'],\n",
      "      dtype='object')\n"
     ]
    }
   ],
   "source": [
    "print(wd_combined_init.columns)"
   ]
  },
  {
   "cell_type": "markdown",
   "metadata": {},
   "source": [
    "Select only relevent columns from the DataFrame \n",
    "\n",
    "These are the columns that can/will be used Independent Variables in the model"
   ]
  },
  {
   "cell_type": "code",
   "execution_count": 7,
   "metadata": {},
   "outputs": [],
   "source": [
    "wd_combined = wd_combined_init.copy() \n",
    "wd_combined = wd_combined[['FlightDate', 'Carrier',\n",
    "       'DepAirportID', 'CRSDepTime', 'ActualDepTime', 'DepDelay', 'DepDelayNew', \n",
    "       'Cancelled', 'WeatherDelay', 'WeatherDate', \n",
    "       'HourlyAltimeterSetting', 'HourlyDewPointTemperature', 'HourlyDryBulbTemperature',\n",
    "       'HourlyPrecipitation', 'HourlyRelativeHumidity', 'HourlySeaLevelPressure', \n",
    "       'HourlyStationPressure', 'HourlyVisibility', \n",
    "       'HourlyWetBulbTemperature', 'HourlyWindSpeed']]"
   ]
  },
  {
   "cell_type": "markdown",
   "metadata": {},
   "source": [
    "Select only records where WeatherDelay is not null"
   ]
  },
  {
   "cell_type": "code",
   "execution_count": 8,
   "metadata": {},
   "outputs": [],
   "source": [
    "wd_combined = wd_combined[wd_combined[\"WeatherDelay\"].notna()]\n",
    "wd_combined[\"WeatherDelay\"] = wd_combined[\"WeatherDelay\"].astype(float)"
   ]
  },
  {
   "cell_type": "markdown",
   "metadata": {},
   "source": [
    "Copy dataframe and reset index"
   ]
  },
  {
   "cell_type": "code",
   "execution_count": 9,
   "metadata": {},
   "outputs": [],
   "source": [
    "wd_weather = wd_combined.copy()\n",
    "wd_weather.reset_index(drop=True, inplace=True)\n",
    "pd.set_option('display.max_columns', 20)"
   ]
  },
  {
   "cell_type": "markdown",
   "metadata": {},
   "source": [
    "Now that the dataframe has been created and prepared, we perform the first iteration of variable selection tests, with all possible independent variables included in the multiple regression model"
   ]
  },
  {
   "cell_type": "code",
   "execution_count": 10,
   "metadata": {},
   "outputs": [],
   "source": [
    "%config InlineBackend.close_figures=False\n",
    "plt.ioff()"
   ]
  },
  {
   "cell_type": "markdown",
   "metadata": {},
   "source": [
    "# Variable Selection Iteration 1"
   ]
  },
  {
   "cell_type": "code",
   "execution_count": 11,
   "metadata": {},
   "outputs": [],
   "source": [
    "independent_var_list = [\"HourlyAltimeterSetting\",\"HourlyDewPointTemperature\",\n",
    "                     \"HourlyDryBulbTemperature\",\"HourlyPrecipitation\",\n",
    "                     \"HourlyRelativeHumidity\",\"HourlySeaLevelPressure\",\n",
    "                     \"HourlyStationPressure\",\"HourlyVisibility\",\n",
    "                     \"HourlyWetBulbTemperature\",\"HourlyWindSpeed\"]\n",
    "# Assign all IV columns to float type\n",
    "for var in independent_var_list:\n",
    "    wd_weather[var] = wd_weather[var].astype(float)"
   ]
  },
  {
   "cell_type": "code",
   "execution_count": 12,
   "metadata": {},
   "outputs": [
    {
     "name": "stdout",
     "output_type": "stream",
     "text": [
      "Trial  1 OLS; Square-Root of MSE:  15.876165937258602 ; R-Squared: 0.029443274344988057\n",
      "Trial  2 OLS; Square-Root of MSE:  16.10336670454099 ; R-Squared: 0.02773142960923536\n",
      "Trial  3 OLS; Square-Root of MSE:  16.271682598491797 ; R-Squared: 0.02523931450695238\n",
      "Trial  4 OLS; Square-Root of MSE:  16.469215036895378 ; R-Squared: 0.027603826679165278\n",
      "Trial  5 OLS; Square-Root of MSE:  15.9672031727156 ; R-Squared: 0.025603535393226462\n",
      "Trial  6 OLS; Square-Root of MSE:  15.585156460093174 ; R-Squared: 0.027859527535780915\n",
      "Trial  7 OLS; Square-Root of MSE:  16.7361279223298 ; R-Squared: 0.027128923422837237\n",
      "Trial  8 OLS; Square-Root of MSE:  16.25841648792196 ; R-Squared: 0.02561602196160906\n",
      "Trial  9 OLS; Square-Root of MSE:  15.979495681412867 ; R-Squared: 0.026736087095758365\n",
      "Trial  10 OLS; Square-Root of MSE:  16.30406589099466 ; R-Squared: 0.024103402463621748\n"
     ]
    }
   ],
   "source": [
    "heat_map1, plot1 = dataframe_summary_statistics(wd_weather, independent_var_list)\n",
    "regression_results1 = perform_ml_regression(wd_weather, \"WeatherDelay\", independent_var_list, proportion_train_data, number_of_trials)\n",
    "plot1.ioff();"
   ]
  },
  {
   "cell_type": "markdown",
   "metadata": {},
   "source": [
    "## Iteration 1 Results"
   ]
  },
  {
   "cell_type": "markdown",
   "metadata": {},
   "source": [
    "### Average Square-Root of Mean-Squared-Error (MSE) and R-Squared:\n",
    "\n",
    "The Square-Root of the Mean-Squared Error represents the average amount of error of any given prediction by this model. In this case, that would be the average number of minutes that the prediction would be off by. \n",
    "\n",
    "For example, if the SQ-MSE is 14.0, and the model predicts a delay time of 60 minutes, on average the actual delay time will be between 46 - 74 minutes (plus or minus 14.0 from the predicted delay)\n",
    "\n",
    "The R-Squared value measures the proportion of the variance of the dependent variable that can be explained by changes to the independent variables. It can range from 0.0 to 1.0, with higher values meaning a greater correlation. A low R-Squared value could mean that there is a minimal correlation between the IVs and DV, but it could also just indicate noisy data. To determiner which is the case, we will need to examine the P-Values of each IV as well."
   ]
  },
  {
   "cell_type": "code",
   "execution_count": 13,
   "metadata": {},
   "outputs": [
    {
     "name": "stdout",
     "output_type": "stream",
     "text": [
      "Average SQ-MSE across 10 trials: 16.155089589265483\n"
     ]
    }
   ],
   "source": [
    "print(\"Average SQ-MSE across\", number_of_trials, \"trials:\", statistics.mean(regression_results1.sqrt_mse_arr))"
   ]
  },
  {
   "cell_type": "code",
   "execution_count": 14,
   "metadata": {},
   "outputs": [
    {
     "name": "stdout",
     "output_type": "stream",
     "text": [
      "Average R-Squared across 10 trials: 0.026706534301317485\n"
     ]
    }
   ],
   "source": [
    "print(\"Average R-Squared across\", number_of_trials, \"trials:\", statistics.mean(regression_results1.r2_arr))"
   ]
  },
  {
   "cell_type": "markdown",
   "metadata": {},
   "source": [
    "### Average P-Values across all trials:\n",
    "\n",
    "This number represents the statistical significance of the correlation between each Independent Variable and the Dependent Variable (Weather Delay, in minutes). Smaller P-Values indicate a more statistically-significant correlation.\n",
    "\n",
    "P-Values aren't as accurate in a multiple regression model than they are in a single variable linear regression model, but they still provided a good general idea of which variables are worth using in our model."
   ]
  },
  {
   "cell_type": "code",
   "execution_count": 15,
   "metadata": {},
   "outputs": [
    {
     "name": "stdout",
     "output_type": "stream",
     "text": [
      "Average P-Values:\n",
      "\n",
      "HourlyPrecipitation           0.000000e+00\n",
      "HourlyWindSpeed              4.763583e-195\n",
      "HourlyVisibility              6.572041e-82\n",
      "const                         1.299509e-26\n",
      "HourlyStationPressure         3.379738e-21\n",
      "HourlyRelativeHumidity        3.538488e-20\n",
      "HourlyDewPointTemperature     7.656027e-03\n",
      "HourlyWetBulbTemperature      5.648651e-02\n",
      "HourlyAltimeterSetting        2.622496e-01\n",
      "HourlySeaLevelPressure        3.707614e-01\n",
      "HourlyDryBulbTemperature      6.110449e-01\n"
     ]
    }
   ],
   "source": [
    "print(\"Average P-Values:\\n\")\n",
    "print(regression_results1.pval_arr.to_string())"
   ]
  },
  {
   "cell_type": "markdown",
   "metadata": {},
   "source": [
    "### Correlation plot and Variation Inflation Factors (VAF) of all Independent Variables:"
   ]
  },
  {
   "cell_type": "markdown",
   "metadata": {},
   "source": [
    "Overly-correlated Independent Variables can result in an artificially-inflated R-squared value, and can cause us to incorrectly reject the null hypothesis. It can also lead to inaccurate correlation coefficient values, and can cause other irregularities such as overfitting in the data, making the model less flexible. \n",
    "\n",
    "This is because the main purpose of any regression analysis is to determine the correlation between each IV and the DV. The coefficient assigned to each IV represents the amount and magnitude of change to the DV that should, on average, result from a single unit increase in that specific IV. If IVs are too highly correlated, the independence assumption is not met, and it becomes harder for the model to identify what changes to the DV are associated with each IV. \n",
    "\n",
    "The Correlation plot and Variation Inflation Factors (VIF) above are both measures of the multicollinearity between Independent variables used in the model. The correlation plot shows the degree and direction of correlation between each pair of IVs, ranging from -1.0 (full negative correlation, where increase in x results in a proportional decrease in y) to 1.0 (full positive correlation, where increase in x results in a proportional increase in y). \n",
    "\n",
    "VIF is a measure of the strength of each Independent Variable's multicollinearity with all other IVs. A value of 1.0 indicates no correlation, while a VIF greater than 5.0 is typically viewed as a severe level of correlation that should be addressed."
   ]
  },
  {
   "cell_type": "code",
   "execution_count": 16,
   "metadata": {
    "scrolled": true
   },
   "outputs": [
    {
     "data": {
      "image/png": "[encoded data removed]",
      "text/plain": [
       "<Figure size 1080x1080 with 2 Axes>"
      ]
     },
     "metadata": {
      "needs_background": "light"
     },
     "output_type": "display_data"
    }
   ],
   "source": [
    "plot1.show()"
   ]
  },
  {
   "cell_type": "code",
   "execution_count": 17,
   "metadata": {},
   "outputs": [
    {
     "name": "stdout",
     "output_type": "stream",
     "text": [
      "HourlyPrecipitation              1.086414\n",
      "HourlyWindSpeed                  1.117973\n",
      "HourlyVisibility                 1.459662\n",
      "HourlyStationPressure            2.044170\n",
      "HourlyRelativeHumidity          19.446610\n",
      "HourlyAltimeterSetting          25.318781\n",
      "HourlySeaLevelPressure          29.460187\n",
      "HourlyDewPointTemperature       90.621181\n",
      "HourlyDryBulbTemperature       120.831625\n",
      "HourlyWetBulbTemperature       203.362527\n",
      "const                        36274.542490\n"
     ]
    }
   ],
   "source": [
    "print(regression_results1.vif.sort_values(ascending = True).to_string())"
   ]
  },
  {
   "cell_type": "markdown",
   "metadata": {},
   "source": [
    "## Iteration 1 Analysis"
   ]
  },
  {
   "cell_type": "markdown",
   "metadata": {},
   "source": [
    "With the dangers of highly correlated variables in mind, only one variable from each set of correlated variables will be included in our model. We will examine each set of variables and select the one with the lowest p-value (the IV with the most statistically significant influence on the DV) and preferably the lowest VIF. The lower p-value indicates that this weather variable would be a better predictor of flight delays than the others in its set.\n",
    "\n",
    "As demonstrated by the correlation plot above, there are a number of weather data Independent Variables that are highly correlated. HourlyAltimeterSetting -> HourlySeaLevelPressure, HourlyDewPointTemperature -> HourlyWetBulbTemperature, HourlyDewPointTemperature -> HourlyDryBulbTemperature, and HourlyDryBulbTemperature -> HourlyWetBulbTemperature.\n",
    "\n",
    "We start by examining the first pair of variables, HourlyAltimeterSetting and HourlySeaLevelPressure:"
   ]
  },
  {
   "cell_type": "markdown",
   "metadata": {},
   "source": [
    "Of these 2 variables, both have p-values well above the typical threshold for statistical significance at 0.05. Based on this, it should be safe to remove both variables from our model, since they are both highly correlated with other variables as well."
   ]
  },
  {
   "cell_type": "markdown",
   "metadata": {},
   "source": [
    "Next we will compare the set of 3 highly-correlated variables, HourlyDewPointTemperature, HourlyWetBulbTemperature, and HourlyDryBulbTemperature:"
   ]
  },
  {
   "cell_type": "markdown",
   "metadata": {},
   "source": [
    "Of these 3 variables, HourlyDewPointTemperature has the lowest p-value by a large margin, so we will remove HourlyDryBulbTemperature and HourlyWetBulbTemperature from the model."
   ]
  },
  {
   "cell_type": "markdown",
   "metadata": {},
   "source": [
    "We can now run another iteration of variable selection tests, to further reduce the number of variables that we are considering in our model. We will remove the four less-significant variables identified above from the list of Independent Variables being considered:"
   ]
  },
  {
   "cell_type": "markdown",
   "metadata": {},
   "source": [
    "# Variable Selection Iteration 2"
   ]
  },
  {
   "cell_type": "code",
   "execution_count": 18,
   "metadata": {},
   "outputs": [
    {
     "name": "stdout",
     "output_type": "stream",
     "text": [
      "Trial  1 OLS; Square-Root of MSE:  15.865666991750949 ; R-Squared: 0.023094225323823436\n",
      "Trial  2 OLS; Square-Root of MSE:  17.110036366161243 ; R-Squared: 0.023201978749125107\n",
      "Trial  3 OLS; Square-Root of MSE:  16.165268745691595 ; R-Squared: 0.02760110116632708\n",
      "Trial  4 OLS; Square-Root of MSE:  16.086138067124846 ; R-Squared: 0.024025059026153928\n",
      "Trial  5 OLS; Square-Root of MSE:  16.164317016922727 ; R-Squared: 0.024926283346144662\n",
      "Trial  6 OLS; Square-Root of MSE:  16.478868951872812 ; R-Squared: 0.026819090892378328\n",
      "Trial  7 OLS; Square-Root of MSE:  15.21882962758664 ; R-Squared: 0.028695819304635717\n",
      "Trial  8 OLS; Square-Root of MSE:  16.048669498017635 ; R-Squared: 0.02503942603250897\n",
      "Trial  9 OLS; Square-Root of MSE:  15.836060563065146 ; R-Squared: 0.026911383078007667\n",
      "Trial  10 OLS; Square-Root of MSE:  15.878304543452566 ; R-Squared: 0.02298193557418904\n"
     ]
    }
   ],
   "source": [
    "plot1.close()\n",
    "independent_var_list = [\"HourlyDewPointTemperature\", \"HourlyPrecipitation\",\n",
    "                     \"HourlyRelativeHumidity\", \"HourlyStationPressure\",\n",
    "                        \"HourlyVisibility\", \"HourlyWindSpeed\"]\n",
    "heat_map2, plot2 = dataframe_summary_statistics(wd_weather, independent_var_list)\n",
    "regression_results2 = perform_ml_regression(wd_weather, \"WeatherDelay\", independent_var_list, proportion_train_data, number_of_trials)\n",
    "plot2.ioff();"
   ]
  },
  {
   "cell_type": "markdown",
   "metadata": {},
   "source": [
    "## Iteration 2 Results"
   ]
  },
  {
   "cell_type": "markdown",
   "metadata": {},
   "source": [
    "### Average Square-Root of Mean-Squared-Error (MSE):"
   ]
  },
  {
   "cell_type": "code",
   "execution_count": 19,
   "metadata": {},
   "outputs": [
    {
     "name": "stdout",
     "output_type": "stream",
     "text": [
      "Average SQ-MSE across 10 trials: 16.085216037164617\n"
     ]
    }
   ],
   "source": [
    "print(\"Average SQ-MSE across\", number_of_trials, \"trials:\", statistics.mean(regression_results2.sqrt_mse_arr))"
   ]
  },
  {
   "cell_type": "code",
   "execution_count": 20,
   "metadata": {},
   "outputs": [
    {
     "name": "stdout",
     "output_type": "stream",
     "text": [
      "Average R-Squared across 10 trials: 0.025329630249329393\n"
     ]
    }
   ],
   "source": [
    "print(\"Average R-Squared across\", number_of_trials, \"trials:\", statistics.mean(regression_results2.r2_arr))"
   ]
  },
  {
   "cell_type": "markdown",
   "metadata": {},
   "source": [
    "### Average P-Values across all trials:"
   ]
  },
  {
   "cell_type": "code",
   "execution_count": 21,
   "metadata": {},
   "outputs": [
    {
     "name": "stdout",
     "output_type": "stream",
     "text": [
      "Average P-Values:\n",
      "\n",
      "HourlyPrecipitation           0.000000e+00\n",
      "HourlyWindSpeed              4.319857e-245\n",
      "HourlyRelativeHumidity       1.020304e-163\n",
      "HourlyVisibility              6.598278e-93\n",
      "const                         4.976342e-61\n",
      "HourlyStationPressure         1.314995e-57\n",
      "HourlyDewPointTemperature     2.583744e-07\n"
     ]
    }
   ],
   "source": [
    "print(\"Average P-Values:\\n\")\n",
    "print(regression_results2.pval_arr.to_string())"
   ]
  },
  {
   "cell_type": "markdown",
   "metadata": {},
   "source": [
    "### Correlation plot and Variation Inflation Factors (VAF) of all Independent Variables:"
   ]
  },
  {
   "cell_type": "code",
   "execution_count": 22,
   "metadata": {
    "scrolled": true
   },
   "outputs": [
    {
     "data": {
      "image/png": "[encoded data removed]",
      "text/plain": [
       "<Figure size 1080x1080 with 2 Axes>"
      ]
     },
     "metadata": {
      "needs_background": "light"
     },
     "output_type": "display_data"
    }
   ],
   "source": [
    "plot2.show()"
   ]
  },
  {
   "cell_type": "code",
   "execution_count": 23,
   "metadata": {},
   "outputs": [
    {
     "name": "stdout",
     "output_type": "stream",
     "text": [
      "HourlyWindSpeed                1.030321\n",
      "HourlyPrecipitation            1.078006\n",
      "HourlyStationPressure          1.147038\n",
      "HourlyDewPointTemperature      1.241280\n",
      "HourlyVisibility               1.329884\n",
      "HourlyRelativeHumidity         1.551410\n",
      "const                        386.169637\n"
     ]
    }
   ],
   "source": [
    "print(regression_results2.vif.sort_values(ascending = True).to_string())"
   ]
  },
  {
   "cell_type": "markdown",
   "metadata": {},
   "source": [
    "## Iteration 2 Analysis"
   ]
  },
  {
   "cell_type": "markdown",
   "metadata": {},
   "source": [
    "Of the remaining variables, HourlyRelativeHumidity has the most significant correlations to other variables. While it has a low P-Value and relatively low VIF, it has very high correlations to certain other IFs. The costs of these high correlations likely outweigh any value that this variable adds to the model."
   ]
  },
  {
   "cell_type": "markdown",
   "metadata": {},
   "source": [
    "# Variable Selection Iteration 3"
   ]
  },
  {
   "cell_type": "code",
   "execution_count": 24,
   "metadata": {},
   "outputs": [
    {
     "name": "stdout",
     "output_type": "stream",
     "text": [
      "Trial  1 OLS; Square-Root of MSE:  15.786802549338077 ; R-Squared: 0.02729778793841764\n",
      "Trial  2 OLS; Square-Root of MSE:  15.514672882881253 ; R-Squared: 0.02767949187240526\n",
      "Trial  3 OLS; Square-Root of MSE:  15.941165715046884 ; R-Squared: 0.026982104490376968\n",
      "Trial  4 OLS; Square-Root of MSE:  15.430632333197815 ; R-Squared: 0.02892316393300698\n",
      "Trial  5 OLS; Square-Root of MSE:  15.680704699446016 ; R-Squared: 0.02322691005170252\n",
      "Trial  6 OLS; Square-Root of MSE:  16.10288110662104 ; R-Squared: 0.02571377832739663\n",
      "Trial  7 OLS; Square-Root of MSE:  15.701724507081488 ; R-Squared: 0.025970512784428745\n",
      "Trial  8 OLS; Square-Root of MSE:  16.13683075864332 ; R-Squared: 0.024998086067319347\n",
      "Trial  9 OLS; Square-Root of MSE:  16.172737203889866 ; R-Squared: 0.02827288068499545\n",
      "Trial  10 OLS; Square-Root of MSE:  15.908802233130823 ; R-Squared: 0.027084344745021305\n"
     ]
    }
   ],
   "source": [
    "plot2.close()\n",
    "independent_var_list = [\"HourlyDewPointTemperature\", \"HourlyPrecipitation\", \"HourlyStationPressure\",\n",
    "                        \"HourlyVisibility\", \"HourlyWindSpeed\"]\n",
    "heat_map3, plot3 = dataframe_summary_statistics(wd_weather, independent_var_list)\n",
    "regression_results3 = perform_ml_regression(wd_weather, \"WeatherDelay\", independent_var_list, proportion_train_data, number_of_trials)\n",
    "plot3.ioff();"
   ]
  },
  {
   "cell_type": "markdown",
   "metadata": {},
   "source": [
    "## Iteration 3 Results"
   ]
  },
  {
   "cell_type": "markdown",
   "metadata": {},
   "source": [
    "### Average Square-Root of Mean-Squared-Error (MSE):"
   ]
  },
  {
   "cell_type": "code",
   "execution_count": 25,
   "metadata": {},
   "outputs": [
    {
     "name": "stdout",
     "output_type": "stream",
     "text": [
      "Average SQ-MSE across 10 trials: 15.837695398927659\n"
     ]
    }
   ],
   "source": [
    "print(\"Average SQ-MSE across\", number_of_trials, \"trials:\", statistics.mean(regression_results3.sqrt_mse_arr))"
   ]
  },
  {
   "cell_type": "code",
   "execution_count": 26,
   "metadata": {},
   "outputs": [
    {
     "name": "stdout",
     "output_type": "stream",
     "text": [
      "Average R-Squared across 10 trials: 0.026614906089507083\n"
     ]
    }
   ],
   "source": [
    "print(\"Average R-Squared across\", number_of_trials, \"trials:\", statistics.mean(regression_results3.r2_arr))"
   ]
  },
  {
   "cell_type": "markdown",
   "metadata": {},
   "source": [
    "### Average P-Values across all trials:"
   ]
  },
  {
   "cell_type": "code",
   "execution_count": 27,
   "metadata": {},
   "outputs": [
    {
     "name": "stdout",
     "output_type": "stream",
     "text": [
      "Average P-Values:\n",
      "\n",
      "HourlyPrecipitation           0.000000e+00\n",
      "HourlyVisibility             3.000154e-299\n",
      "HourlyWindSpeed              3.543136e-209\n",
      "const                         1.357134e-74\n",
      "HourlyDewPointTemperature     1.087499e-50\n",
      "HourlyStationPressure         3.252649e-25\n"
     ]
    }
   ],
   "source": [
    "print(\"Average P-Values:\\n\")\n",
    "print(regression_results3.pval_arr.to_string())"
   ]
  },
  {
   "cell_type": "markdown",
   "metadata": {},
   "source": [
    "### Correlation plot and Variation Inflation Factors (VAF) of all Independent Variables:"
   ]
  },
  {
   "cell_type": "code",
   "execution_count": 28,
   "metadata": {
    "scrolled": false
   },
   "outputs": [
    {
     "data": {
      "image/png": "[encoded data removed]",
      "text/plain": [
       "<Figure size 1080x1080 with 2 Axes>"
      ]
     },
     "metadata": {
      "needs_background": "light"
     },
     "output_type": "display_data"
    }
   ],
   "source": [
    "plot3.show()"
   ]
  },
  {
   "cell_type": "code",
   "execution_count": 29,
   "metadata": {},
   "outputs": [
    {
     "name": "stdout",
     "output_type": "stream",
     "text": [
      "HourlyWindSpeed                1.019165\n",
      "HourlyVisibility               1.071034\n",
      "HourlyPrecipitation            1.075598\n",
      "HourlyStationPressure          1.092687\n",
      "HourlyDewPointTemperature      1.111056\n",
      "const                        384.808606\n"
     ]
    }
   ],
   "source": [
    "print(regression_results3.vif.sort_values(ascending = True).to_string())"
   ]
  },
  {
   "cell_type": "markdown",
   "metadata": {},
   "source": [
    "## Iteration 3 Analysis"
   ]
  },
  {
   "cell_type": "markdown",
   "metadata": {},
   "source": [
    "Since the average Square-Root of MSE and R-Squared values have not changed much across the iterations, at this point we can simply tweak the model until we find our desired selection of variables and ideal R-Square and P-Values. \n",
    "\n",
    "Of the remaining variables, HourlyDewPointTemperature is the only one with any significant correlations to other variables, so we can remove it. Fewer variables is usually better when constructing a model, as long as the accuracy of the model remains unchanged or improves."
   ]
  },
  {
   "cell_type": "markdown",
   "metadata": {},
   "source": [
    "# Variable Selection Iteration 4"
   ]
  },
  {
   "cell_type": "code",
   "execution_count": 30,
   "metadata": {},
   "outputs": [
    {
     "name": "stdout",
     "output_type": "stream",
     "text": [
      "Trial  1 OLS; Square-Root of MSE:  15.880930330629194 ; R-Squared: 0.02756469965821784\n",
      "Trial  2 OLS; Square-Root of MSE:  16.03725224356897 ; R-Squared: 0.025450154325755703\n",
      "Trial  3 OLS; Square-Root of MSE:  15.976048743825407 ; R-Squared: 0.023791335273649294\n",
      "Trial  4 OLS; Square-Root of MSE:  16.440720816261603 ; R-Squared: 0.025041215673189177\n",
      "Trial  5 OLS; Square-Root of MSE:  16.134918243598708 ; R-Squared: 0.02491252833005697\n",
      "Trial  6 OLS; Square-Root of MSE:  15.941566246702978 ; R-Squared: 0.02653326944598189\n",
      "Trial  7 OLS; Square-Root of MSE:  15.505081698008974 ; R-Squared: 0.027793261735587493\n",
      "Trial  8 OLS; Square-Root of MSE:  16.132926158990703 ; R-Squared: 0.025723008498032107\n",
      "Trial  9 OLS; Square-Root of MSE:  15.23536824834595 ; R-Squared: 0.026017157784638978\n",
      "Trial  10 OLS; Square-Root of MSE:  14.792581069026044 ; R-Squared: 0.026998931957352257\n"
     ]
    }
   ],
   "source": [
    "plot3.close()\n",
    "independent_var_list = [\"HourlyPrecipitation\", \"HourlyWindSpeed\", \"HourlyVisibility\", \"HourlyStationPressure\"]\n",
    "heat_map4, plot4 = dataframe_summary_statistics(wd_weather, independent_var_list)\n",
    "regression_results4 = perform_ml_regression(wd_weather, \"WeatherDelay\", independent_var_list, proportion_train_data, number_of_trials)\n",
    "plot4.ioff();"
   ]
  },
  {
   "cell_type": "markdown",
   "metadata": {},
   "source": [
    "## Iteration 4 Results"
   ]
  },
  {
   "cell_type": "markdown",
   "metadata": {},
   "source": [
    "### Average Square-Root of Mean-Squared-Error (MSE):"
   ]
  },
  {
   "cell_type": "code",
   "execution_count": 31,
   "metadata": {},
   "outputs": [
    {
     "name": "stdout",
     "output_type": "stream",
     "text": [
      "Average SQ-MSE across 10 trials: 15.807739379895853\n"
     ]
    }
   ],
   "source": [
    "print(\"Average SQ-MSE across\", number_of_trials, \"trials:\", statistics.mean(regression_results4.sqrt_mse_arr))"
   ]
  },
  {
   "cell_type": "code",
   "execution_count": 32,
   "metadata": {},
   "outputs": [
    {
     "name": "stdout",
     "output_type": "stream",
     "text": [
      "Average R-Squared across 10 trials: 0.025982556268246172\n"
     ]
    }
   ],
   "source": [
    "print(\"Average R-Squared across\", number_of_trials, \"trials:\", statistics.mean(regression_results4.r2_arr))"
   ]
  },
  {
   "cell_type": "markdown",
   "metadata": {},
   "source": [
    "### Average P-Values across all trials:"
   ]
  },
  {
   "cell_type": "code",
   "execution_count": 33,
   "metadata": {},
   "outputs": [
    {
     "name": "stdout",
     "output_type": "stream",
     "text": [
      "Average P-Values:\n",
      "\n",
      "HourlyPrecipitation       0.000000e+00\n",
      "HourlyVisibility         3.823092e-302\n",
      "HourlyWindSpeed          3.053695e-181\n",
      "const                     1.300215e-57\n",
      "HourlyStationPressure     1.233015e-09\n"
     ]
    }
   ],
   "source": [
    "print(\"Average P-Values:\\n\")\n",
    "print(regression_results4.pval_arr.to_string())"
   ]
  },
  {
   "cell_type": "markdown",
   "metadata": {},
   "source": [
    "### Correlation plot and Variation Inflation Factors (VAF) of all Independent Variables:"
   ]
  },
  {
   "cell_type": "code",
   "execution_count": 34,
   "metadata": {
    "scrolled": false
   },
   "outputs": [
    {
     "data": {
      "image/png": "[encoded data removed]",
      "text/plain": [
       "<Figure size 1080x1080 with 2 Axes>"
      ]
     },
     "metadata": {
      "needs_background": "light"
     },
     "output_type": "display_data"
    }
   ],
   "source": [
    "plot4.show()"
   ]
  },
  {
   "cell_type": "code",
   "execution_count": 35,
   "metadata": {},
   "outputs": [
    {
     "name": "stdout",
     "output_type": "stream",
     "text": [
      "HourlyStationPressure      1.003287\n",
      "HourlyWindSpeed            1.007899\n",
      "HourlyPrecipitation        1.069558\n",
      "HourlyVisibility           1.070909\n",
      "const                    378.502242\n"
     ]
    }
   ],
   "source": [
    "print(regression_results4.vif.sort_values(ascending = True).to_string())"
   ]
  },
  {
   "cell_type": "markdown",
   "metadata": {},
   "source": [
    "## Iteration 4 Analysis"
   ]
  },
  {
   "cell_type": "markdown",
   "metadata": {},
   "source": [
    "Now that we've gotten the correlation values to an acceptable level, with significant P-Values and extremely low VIFs for each variable, we can examine the coefficients to determine the effect that each individual Independent Variables has on the Dependent Variable."
   ]
  },
  {
   "cell_type": "markdown",
   "metadata": {},
   "source": [
    "### Independent Variable Coefficients"
   ]
  },
  {
   "cell_type": "code",
   "execution_count": 36,
   "metadata": {
    "scrolled": true
   },
   "outputs": [
    {
     "name": "stdout",
     "output_type": "stream",
     "text": [
      "HourlyPrecipitation      69.748524\n",
      "HourlyWindSpeed           0.078467\n",
      "HourlyStationPressure    -0.059895\n",
      "HourlyVisibility         -0.287497\n"
     ]
    }
   ],
   "source": [
    "const_mask = regression_results4.coef.index.isin(['const'])\n",
    "print(regression_results4.coef.loc[~const_mask].sort_values(ascending = False).to_string())"
   ]
  },
  {
   "cell_type": "markdown",
   "metadata": {},
   "source": [
    "### Intercept (Constant) Value"
   ]
  },
  {
   "cell_type": "code",
   "execution_count": 37,
   "metadata": {},
   "outputs": [
    {
     "name": "stdout",
     "output_type": "stream",
     "text": [
      "const    4.609745\n"
     ]
    }
   ],
   "source": [
    "print(regression_results4.coef.loc[const_mask].to_string())"
   ]
  },
  {
   "cell_type": "markdown",
   "metadata": {},
   "source": [
    "The IV coefficients represent the magnitude of change to the weather delay that would, on average, occur when the value of that IV is increased by 1 unit. For example, an increase in Wind Speed of 1 MPH results in approximately 0.08 minutes (approximately 5 seconds) of additional Weather Delay, on average.\n",
    "\n",
    "The intercept (constant) value is the baseline weather delay that would be expected to occur when all of the IVs have a value of 0. While having a positive value for this may not make sense at first, keep in mind that a value of \"0\" for some of the IVs isn't necessarily the \"default.\" For example, a value of \"0\" for a variable like Month doesn't mean anything at all. The IV coefficients are the more interesting and useful result.\n",
    "\n",
    "The IV coefficients combined with their respective IV values, plus the intercept, comprise the equation at the core of the linear regression model. Plugging values for each of the IVs into this equation will generate the prediction of the WeatherDelay (in minutes) for those conditions."
   ]
  },
  {
   "cell_type": "markdown",
   "metadata": {},
   "source": [
    "It is important to keep in mind that this model is nowhere near perfect. There could be any number of additional factors that impact weather delays, such as pilot experience, airline, or government regulations. \n",
    "\n",
    "Additionally, some of these variables may contribute to a non-linear correlation, such as an exponential or logarithmic. For example, one could reason that once you reach a certain wind speed, each additional MPH increase in wind speed cause a smaller increase in weather delays. This could potentially be represented by a logarithmic regression, or possibly a 3rd order polynomial regression. Linear regreesion may not be the best fit for every variable.\n",
    "\n",
    "Even so, linear regression analysis can provide us with useful insights about the effects of weather on airline delays. While the predictions that result from the model may not be extremely accurate, knowing how each individual Independent Variable affects Weather Delays could prove to be useful in developing future models and experiments."
   ]
  }
 ],
 "metadata": {
  "kernelspec": {
   "display_name": "Python 3",
   "language": "python",
   "name": "python3"
  },
  "language_info": {
   "codemirror_mode": {
    "name": "ipython",
    "version": 3
   },
   "file_extension": ".py",
   "mimetype": "text/x-python",
   "name": "python",
   "nbconvert_exporter": "python",
   "pygments_lexer": "ipython3",
   "version": "3.8.3"
  }
 },
 "nbformat": 4,
 "nbformat_minor": 4
}
